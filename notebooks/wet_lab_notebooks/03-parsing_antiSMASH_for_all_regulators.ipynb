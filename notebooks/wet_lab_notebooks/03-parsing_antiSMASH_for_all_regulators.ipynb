{
 "cells": [
  {
   "cell_type": "markdown",
   "metadata": {},
   "source": [
    "# 00-parsing_antiSMASH\n",
    "\n",
    "\n",
    "\n",
    "### Overview"
   ]
  },
  {
   "cell_type": "markdown",
   "metadata": {},
   "source": [
    "Content: \n",
    "1. Read in antismash output\n",
    "2. retreive Regulators seqs from differet families e.g. all LuxR tfs"
   ]
  },
  {
   "cell_type": "code",
   "execution_count": 1,
   "metadata": {},
   "outputs": [],
   "source": [
    "\n",
    "import sys\n",
    "import os\n",
    "def list_of_objects_in_a_dir(dir_path:str): \n",
    "    \"\"\"List all objects in a directory.\n",
    "    \n",
    "    Parameters\n",
    "    ----------\n",
    "    dir_path : str\n",
    "        The path to the directory.\n",
    "        \n",
    "    Returns\n",
    "    -------\n",
    "    list\n",
    "        A list of the objects in the directory.\n",
    "    \"\"\"\n",
    "    # list to store files\n",
    "    list_of_files = []\n",
    "\n",
    "    # Iterate directory\n",
    "    for path in os.listdir(dir_path):\n",
    "        # check if current path is a file\n",
    "        if os.path.isfile(os.path.join(dir_path, path)):\n",
    "            list_of_files.append(path)\n",
    "            \n",
    "    return list_of_files\n"
   ]
  },
  {
   "cell_type": "code",
   "execution_count": 2,
   "metadata": {},
   "outputs": [],
   "source": [
    "from teemi.design.fetch_sequences import read_genbank_files\n",
    "import pandas as pd"
   ]
  },
  {
   "cell_type": "code",
   "execution_count": 3,
   "metadata": {},
   "outputs": [],
   "source": [
    "go4010 = read_genbank_files('../wet_lab_notebooks/data_for_drylab/Go40110_flye_polish_actinoannotPFAM_antismash7/Go40110_flye_polish_actinoannotPFAM.gbk')[0]"
   ]
  },
  {
   "cell_type": "code",
   "execution_count": 4,
   "metadata": {},
   "outputs": [
    {
     "data": {
      "text/plain": [
       "'Lenght of the genome 9,637,008 bp'"
      ]
     },
     "execution_count": 4,
     "metadata": {},
     "output_type": "execute_result"
    }
   ],
   "source": [
    "f'Lenght of the genome {len(go4010):,} bp'"
   ]
  },
  {
   "cell_type": "code",
   "execution_count": 5,
   "metadata": {},
   "outputs": [
    {
     "data": {
      "text/plain": [
       "SeqRecord(seq=Seq('CAGCTCCGGCACGGAAAGAGGCTGGTCTGGTTTTGTGGGGTGGGGGCTGGGGTT...AGG'), id='.', name='Exported', description='Streptomyces reticuli_0.928 strain strain', dbxrefs=[])"
      ]
     },
     "execution_count": 5,
     "metadata": {},
     "output_type": "execute_result"
    }
   ],
   "source": [
    "go4010"
   ]
  },
  {
   "cell_type": "markdown",
   "metadata": {},
   "source": [
    "How many clusters"
   ]
  },
  {
   "cell_type": "code",
   "execution_count": 6,
   "metadata": {},
   "outputs": [
    {
     "name": "stdout",
     "output_type": "stream",
     "text": [
      "Total coding sequences :  8154\n"
     ]
    }
   ],
   "source": [
    "# How many genes do we have?\n",
    "locus_tags = []\n",
    "qualifiers = []\n",
    "cds = []\n",
    "\n",
    "for feature in go4010.features:\n",
    "    if feature.type == 'CDS': \n",
    "        # getting the locus tag if we see cds\n",
    "        locus_tags.append(feature.qualifiers['locus_tag'][0])\n",
    "        qualifiers.append(feature.qualifiers)\n",
    "\n",
    "        # All CDS features\n",
    "        cds.append(feature)\n",
    "\n",
    "        \n",
    "print('Total coding sequences : ', len(locus_tags))    "
   ]
  },
  {
   "cell_type": "code",
   "execution_count": 7,
   "metadata": {},
   "outputs": [
    {
     "data": {
      "text/plain": [
       "[SeqFeature(SimpleLocation(ExactPosition(202), ExactPosition(1000), strand=1), type='CDS', qualifiers=...),\n",
       " SeqFeature(SimpleLocation(ExactPosition(3087), ExactPosition(3231), strand=1), type='CDS', qualifiers=...),\n",
       " SeqFeature(SimpleLocation(ExactPosition(6166), ExactPosition(7426), strand=1), type='CDS', qualifiers=...),\n",
       " SeqFeature(SimpleLocation(ExactPosition(9178), ExactPosition(9358), strand=1), type='CDS', qualifiers=...),\n",
       " SeqFeature(SimpleLocation(ExactPosition(9504), ExactPosition(9690), strand=1), type='CDS', qualifiers=...),\n",
       " SeqFeature(SimpleLocation(ExactPosition(14019), ExactPosition(14781), strand=1), type='CDS', qualifiers=...),\n",
       " SeqFeature(SimpleLocation(ExactPosition(15280), ExactPosition(15472), strand=-1), type='CDS', qualifiers=...),\n",
       " SeqFeature(SimpleLocation(ExactPosition(16206), ExactPosition(16326), strand=-1), type='CDS', qualifiers=...),\n",
       " SeqFeature(SimpleLocation(ExactPosition(16859), ExactPosition(17699), strand=-1), type='CDS', qualifiers=...),\n",
       " SeqFeature(SimpleLocation(ExactPosition(18001), ExactPosition(19465), strand=1), type='CDS', qualifiers=...)]"
      ]
     },
     "execution_count": 7,
     "metadata": {},
     "output_type": "execute_result"
    }
   ],
   "source": [
    "cds[:10]"
   ]
  },
  {
   "cell_type": "markdown",
   "metadata": {},
   "source": [
    "Lets retrieve the locus_tag for all transcriptional regualtors"
   ]
  },
  {
   "cell_type": "code",
   "execution_count": 8,
   "metadata": {},
   "outputs": [
    {
     "name": "stdout",
     "output_type": "stream",
     "text": [
      "regulatory (smcogs) SMCOG1016:LuxR family DNA-binding response regulator (Score: 187.1; E-value: 4.1e-57)\n",
      "regulatory (smcogs) SMCOG1149:LuxR family transcriptional regulator (Score: 972.3; E-value: 4.8e-294)\n",
      "regulatory (smcogs) SMCOG1016:LuxR family DNA-binding response regulator (Score: 166.8; E-value: 6.4e-51)\n",
      "regulatory (smcogs) SMCOG1041:transcriptional regulator, SARP family (Score: 314.4; E-value: 3.3e-95)\n",
      "regulatory (smcogs) SMCOG1041:transcriptional regulator, SARP family (Score: 259.2; E-value: 1.5e-78)\n",
      "regulatory (smcogs) SMCOG1016:LuxR family DNA-binding response regulator (Score: 66; E-value: 4.5e-20)\n",
      "regulatory (smcogs) SMCOG1016:LuxR family DNA-binding response regulator (Score: 143.4; E-value: 9.7e-44)\n",
      "regulatory (smcogs) SMCOG1041:transcriptional regulator, SARP family (Score: 266.8; E-value: 7.8e-81)\n",
      "regulatory (smcogs) SMCOG1016:LuxR family DNA-binding response regulator (Score: 151.1; E-value: 4.3e-46)\n",
      "regulatory (smcogs) SMCOG1016:LuxR family DNA-binding response regulator (Score: 175.3; E-value: 1.7e-53)\n",
      "regulatory (smcogs) SMCOG1041:transcriptional regulator, SARP family (Score: 252.9; E-value: 1.2e-76)\n",
      "regulatory (smcogs) SMCOG1016:LuxR family DNA-binding response regulator (Score: 84.7; E-value: 8.6e-26)\n",
      "regulatory (smcogs) SMCOG1041:transcriptional regulator, SARP family (Score: 511.2; E-value: 9.9e-155)\n",
      "regulatory (smcogs) SMCOG1041:transcriptional regulator, SARP family (Score: 476.5; E-value: 3.1e-144)\n",
      "regulatory (smcogs) SMCOG1149:LuxR family transcriptional regulator (Score: 62.2; E-value: 4.9e-19)\n",
      "regulatory (smcogs) SMCOG1149:LuxR family transcriptional regulator (Score: 158; E-value: 5.7e-48)\n",
      "regulatory (smcogs) SMCOG1149:LuxR family transcriptional regulator (Score: 117.2; E-value: 1.2e-35)\n",
      "regulatory (smcogs) SMCOG1041:transcriptional regulator, SARP family (Score: 358.4; E-value: 1.5e-108)\n"
     ]
    },
    {
     "data": {
      "text/plain": [
       "18"
      ]
     },
     "execution_count": 8,
     "metadata": {},
     "output_type": "execute_result"
    }
   ],
   "source": [
    "regulators = []\n",
    "regulator_descriptions = []\n",
    "for qualifier in qualifiers: \n",
    "    if 'gene_kind' in qualifier:\n",
    "        if 'regulatory' in qualifier['gene_functions'][0]:\n",
    "            #print(qualifier['gene_functions'])\n",
    "            if 'LuxR' in qualifier['gene_functions'][0] or 'SARP' in qualifier['gene_functions'][0]: \n",
    "                print(qualifier['gene_functions'][0])\n",
    "                regulator_descriptions.append(qualifier['gene_functions'][0][30:])\n",
    "                regulators.append(qualifier)\n",
    "                \n",
    "len(regulators)"
   ]
  },
  {
   "cell_type": "code",
   "execution_count": 9,
   "metadata": {},
   "outputs": [
    {
     "data": {
      "text/plain": [
       "['LuxR family DNA-binding response regulator (Score: 187.1; E-value: 4.1e-57)',\n",
       " 'LuxR family transcriptional regulator (Score: 972.3; E-value: 4.8e-294)',\n",
       " 'LuxR family DNA-binding response regulator (Score: 166.8; E-value: 6.4e-51)',\n",
       " 'transcriptional regulator, SARP family (Score: 314.4; E-value: 3.3e-95)',\n",
       " 'transcriptional regulator, SARP family (Score: 259.2; E-value: 1.5e-78)',\n",
       " 'LuxR family DNA-binding response regulator (Score: 66; E-value: 4.5e-20)',\n",
       " 'LuxR family DNA-binding response regulator (Score: 143.4; E-value: 9.7e-44)',\n",
       " 'transcriptional regulator, SARP family (Score: 266.8; E-value: 7.8e-81)',\n",
       " 'LuxR family DNA-binding response regulator (Score: 151.1; E-value: 4.3e-46)',\n",
       " 'LuxR family DNA-binding response regulator (Score: 175.3; E-value: 1.7e-53)',\n",
       " 'transcriptional regulator, SARP family (Score: 252.9; E-value: 1.2e-76)',\n",
       " 'LuxR family DNA-binding response regulator (Score: 84.7; E-value: 8.6e-26)',\n",
       " 'transcriptional regulator, SARP family (Score: 511.2; E-value: 9.9e-155)',\n",
       " 'transcriptional regulator, SARP family (Score: 476.5; E-value: 3.1e-144)',\n",
       " 'LuxR family transcriptional regulator (Score: 62.2; E-value: 4.9e-19)',\n",
       " 'LuxR family transcriptional regulator (Score: 158; E-value: 5.7e-48)',\n",
       " 'LuxR family transcriptional regulator (Score: 117.2; E-value: 1.2e-35)',\n",
       " 'transcriptional regulator, SARP family (Score: 358.4; E-value: 1.5e-108)']"
      ]
     },
     "execution_count": 9,
     "metadata": {},
     "output_type": "execute_result"
    }
   ],
   "source": [
    "regulator_descriptions"
   ]
  },
  {
   "cell_type": "code",
   "execution_count": 10,
   "metadata": {},
   "outputs": [],
   "source": [
    "locus_tags_to_search_for = []\n",
    "for qualifier in regulators: \n",
    "    locus_tags_to_search_for.append(qualifier['locus_tag'][0])"
   ]
  },
  {
   "cell_type": "code",
   "execution_count": 11,
   "metadata": {},
   "outputs": [
    {
     "name": "stdout",
     "output_type": "stream",
     "text": [
      "Total sequences within these two regulator families: 18\n"
     ]
    },
    {
     "data": {
      "text/plain": [
       "['LLPMBPKK_00292',\n",
       " 'LLPMBPKK_00328',\n",
       " 'LLPMBPKK_00586',\n",
       " 'LLPMBPKK_01488',\n",
       " 'LLPMBPKK_02197',\n",
       " 'LLPMBPKK_02209',\n",
       " 'LLPMBPKK_02563',\n",
       " 'LLPMBPKK_02633',\n",
       " 'LLPMBPKK_02635',\n",
       " 'LLPMBPKK_02637',\n",
       " 'LLPMBPKK_02662',\n",
       " 'LLPMBPKK_05992',\n",
       " 'LLPMBPKK_06337',\n",
       " 'LLPMBPKK_06422',\n",
       " 'LLPMBPKK_06907',\n",
       " 'LLPMBPKK_07531',\n",
       " 'LLPMBPKK_07744',\n",
       " 'LLPMBPKK_07949']"
      ]
     },
     "execution_count": 11,
     "metadata": {},
     "output_type": "execute_result"
    }
   ],
   "source": [
    "print(f'Total sequences within these two regulator families: {len(locus_tags_to_search_for)}')\n",
    "locus_tags_to_search_for"
   ]
  },
  {
   "cell_type": "markdown",
   "metadata": {},
   "source": [
    "### Manual curation: \n",
    "-  LuxR 11\n",
    "- manual SARP 8"
   ]
  },
  {
   "cell_type": "markdown",
   "metadata": {},
   "source": [
    "### In which gene clusters are they found?"
   ]
  },
  {
   "cell_type": "code",
   "execution_count": 12,
   "metadata": {},
   "outputs": [],
   "source": [
    "\n",
    "regions_names = list_of_objects_in_a_dir('../wet_lab_notebooks/data_for_drylab/Go40110_flye_polish_actinoannotPFAM_antismash7/')\n",
    "\n",
    "genbank_regions = []\n",
    "for gb in regions_names: \n",
    "    if gb.endswith('.gbk') and gb.startswith('..'): \n",
    "        genbank_regions.append(gb)\n",
    "\n",
    "genbank_regions_sorted = sorted(genbank_regions)\n",
    "\n"
   ]
  },
  {
   "cell_type": "code",
   "execution_count": 13,
   "metadata": {},
   "outputs": [],
   "source": [
    "# lets parse: \n",
    "all_genbanks = []\n",
    "for region in genbank_regions_sorted: \n",
    "    all_genbanks.append( read_genbank_files(f'../wet_lab_notebooks/data_for_drylab/Go40110_flye_polish_actinoannotPFAM_antismash7/{region}')[0])"
   ]
  },
  {
   "cell_type": "code",
   "execution_count": 14,
   "metadata": {},
   "outputs": [
    {
     "data": {
      "text/html": [
       "<div>\n",
       "<style scoped>\n",
       "    .dataframe tbody tr th:only-of-type {\n",
       "        vertical-align: middle;\n",
       "    }\n",
       "\n",
       "    .dataframe tbody tr th {\n",
       "        vertical-align: top;\n",
       "    }\n",
       "\n",
       "    .dataframe thead th {\n",
       "        text-align: right;\n",
       "    }\n",
       "</style>\n",
       "<table border=\"1\" class=\"dataframe\">\n",
       "  <thead>\n",
       "    <tr style=\"text-align: right;\">\n",
       "      <th></th>\n",
       "      <th>locus_tag</th>\n",
       "      <th>region</th>\n",
       "      <th>regulator_number</th>\n",
       "      <th>description</th>\n",
       "    </tr>\n",
       "  </thead>\n",
       "  <tbody>\n",
       "    <tr>\n",
       "      <th>0</th>\n",
       "      <td>LLPMBPKK_00292</td>\n",
       "      <td>region 1</td>\n",
       "      <td>Reg 1</td>\n",
       "      <td>LuxR family DNA-binding response regulator (Sc...</td>\n",
       "    </tr>\n",
       "    <tr>\n",
       "      <th>1</th>\n",
       "      <td>LLPMBPKK_00328</td>\n",
       "      <td>region 1</td>\n",
       "      <td>Reg 2</td>\n",
       "      <td>LuxR family transcriptional regulator (Score: ...</td>\n",
       "    </tr>\n",
       "    <tr>\n",
       "      <th>2</th>\n",
       "      <td>LLPMBPKK_00586</td>\n",
       "      <td>region 4</td>\n",
       "      <td>Reg 3</td>\n",
       "      <td>LuxR family DNA-binding response regulator (Sc...</td>\n",
       "    </tr>\n",
       "    <tr>\n",
       "      <th>3</th>\n",
       "      <td>LLPMBPKK_01488</td>\n",
       "      <td>region 10</td>\n",
       "      <td>Reg 4</td>\n",
       "      <td>transcriptional regulator, SARP family (Score:...</td>\n",
       "    </tr>\n",
       "    <tr>\n",
       "      <th>4</th>\n",
       "      <td>LLPMBPKK_02197</td>\n",
       "      <td>region 12</td>\n",
       "      <td>Reg 5</td>\n",
       "      <td>transcriptional regulator, SARP family (Score:...</td>\n",
       "    </tr>\n",
       "    <tr>\n",
       "      <th>5</th>\n",
       "      <td>LLPMBPKK_02209</td>\n",
       "      <td>region 12</td>\n",
       "      <td>Reg 6</td>\n",
       "      <td>LuxR family DNA-binding response regulator (Sc...</td>\n",
       "    </tr>\n",
       "    <tr>\n",
       "      <th>6</th>\n",
       "      <td>LLPMBPKK_02563</td>\n",
       "      <td>region 13</td>\n",
       "      <td>Reg 7</td>\n",
       "      <td>LuxR family DNA-binding response regulator (Sc...</td>\n",
       "    </tr>\n",
       "    <tr>\n",
       "      <th>7</th>\n",
       "      <td>LLPMBPKK_02633</td>\n",
       "      <td>region 14</td>\n",
       "      <td>Reg 8</td>\n",
       "      <td>transcriptional regulator, SARP family (Score:...</td>\n",
       "    </tr>\n",
       "    <tr>\n",
       "      <th>8</th>\n",
       "      <td>LLPMBPKK_02635</td>\n",
       "      <td>region 14</td>\n",
       "      <td>Reg 9</td>\n",
       "      <td>LuxR family DNA-binding response regulator (Sc...</td>\n",
       "    </tr>\n",
       "    <tr>\n",
       "      <th>9</th>\n",
       "      <td>LLPMBPKK_02637</td>\n",
       "      <td>region 14</td>\n",
       "      <td>Reg 10</td>\n",
       "      <td>LuxR family DNA-binding response regulator (Sc...</td>\n",
       "    </tr>\n",
       "    <tr>\n",
       "      <th>10</th>\n",
       "      <td>LLPMBPKK_02662</td>\n",
       "      <td>region 14</td>\n",
       "      <td>Reg 11</td>\n",
       "      <td>transcriptional regulator, SARP family (Score:...</td>\n",
       "    </tr>\n",
       "    <tr>\n",
       "      <th>11</th>\n",
       "      <td>LLPMBPKK_05992</td>\n",
       "      <td>region 22</td>\n",
       "      <td>Reg 12</td>\n",
       "      <td>LuxR family DNA-binding response regulator (Sc...</td>\n",
       "    </tr>\n",
       "    <tr>\n",
       "      <th>12</th>\n",
       "      <td>LLPMBPKK_06337</td>\n",
       "      <td>region 27</td>\n",
       "      <td>Reg 13</td>\n",
       "      <td>transcriptional regulator, SARP family (Score:...</td>\n",
       "    </tr>\n",
       "    <tr>\n",
       "      <th>13</th>\n",
       "      <td>LLPMBPKK_06422</td>\n",
       "      <td>region 28</td>\n",
       "      <td>Reg 14</td>\n",
       "      <td>transcriptional regulator, SARP family (Score:...</td>\n",
       "    </tr>\n",
       "    <tr>\n",
       "      <th>14</th>\n",
       "      <td>LLPMBPKK_06907</td>\n",
       "      <td>region 30</td>\n",
       "      <td>Reg 15</td>\n",
       "      <td>LuxR family transcriptional regulator (Score: ...</td>\n",
       "    </tr>\n",
       "    <tr>\n",
       "      <th>15</th>\n",
       "      <td>LLPMBPKK_07531</td>\n",
       "      <td>region 33</td>\n",
       "      <td>Reg 16</td>\n",
       "      <td>LuxR family transcriptional regulator (Score: ...</td>\n",
       "    </tr>\n",
       "    <tr>\n",
       "      <th>16</th>\n",
       "      <td>LLPMBPKK_07744</td>\n",
       "      <td>region 36</td>\n",
       "      <td>Reg 17</td>\n",
       "      <td>LuxR family transcriptional regulator (Score: ...</td>\n",
       "    </tr>\n",
       "    <tr>\n",
       "      <th>17</th>\n",
       "      <td>LLPMBPKK_07949</td>\n",
       "      <td>region 38</td>\n",
       "      <td>Reg 18</td>\n",
       "      <td>transcriptional regulator, SARP family (Score:...</td>\n",
       "    </tr>\n",
       "  </tbody>\n",
       "</table>\n",
       "</div>"
      ],
      "text/plain": [
       "         locus_tag     region regulator_number  \\\n",
       "0   LLPMBPKK_00292   region 1            Reg 1   \n",
       "1   LLPMBPKK_00328   region 1            Reg 2   \n",
       "2   LLPMBPKK_00586   region 4            Reg 3   \n",
       "3   LLPMBPKK_01488  region 10            Reg 4   \n",
       "4   LLPMBPKK_02197  region 12            Reg 5   \n",
       "5   LLPMBPKK_02209  region 12            Reg 6   \n",
       "6   LLPMBPKK_02563  region 13            Reg 7   \n",
       "7   LLPMBPKK_02633  region 14            Reg 8   \n",
       "8   LLPMBPKK_02635  region 14            Reg 9   \n",
       "9   LLPMBPKK_02637  region 14           Reg 10   \n",
       "10  LLPMBPKK_02662  region 14           Reg 11   \n",
       "11  LLPMBPKK_05992  region 22           Reg 12   \n",
       "12  LLPMBPKK_06337  region 27           Reg 13   \n",
       "13  LLPMBPKK_06422  region 28           Reg 14   \n",
       "14  LLPMBPKK_06907  region 30           Reg 15   \n",
       "15  LLPMBPKK_07531  region 33           Reg 16   \n",
       "16  LLPMBPKK_07744  region 36           Reg 17   \n",
       "17  LLPMBPKK_07949  region 38           Reg 18   \n",
       "\n",
       "                                          description  \n",
       "0   LuxR family DNA-binding response regulator (Sc...  \n",
       "1   LuxR family transcriptional regulator (Score: ...  \n",
       "2   LuxR family DNA-binding response regulator (Sc...  \n",
       "3   transcriptional regulator, SARP family (Score:...  \n",
       "4   transcriptional regulator, SARP family (Score:...  \n",
       "5   LuxR family DNA-binding response regulator (Sc...  \n",
       "6   LuxR family DNA-binding response regulator (Sc...  \n",
       "7   transcriptional regulator, SARP family (Score:...  \n",
       "8   LuxR family DNA-binding response regulator (Sc...  \n",
       "9   LuxR family DNA-binding response regulator (Sc...  \n",
       "10  transcriptional regulator, SARP family (Score:...  \n",
       "11  LuxR family DNA-binding response regulator (Sc...  \n",
       "12  transcriptional regulator, SARP family (Score:...  \n",
       "13  transcriptional regulator, SARP family (Score:...  \n",
       "14  LuxR family transcriptional regulator (Score: ...  \n",
       "15  LuxR family transcriptional regulator (Score: ...  \n",
       "16  LuxR family transcriptional regulator (Score: ...  \n",
       "17  transcriptional regulator, SARP family (Score:...  "
      ]
     },
     "execution_count": 14,
     "metadata": {},
     "output_type": "execute_result"
    }
   ],
   "source": [
    "regions_for_each_locus_tag = []\n",
    "for lc_tag in locus_tags_to_search_for: \n",
    "    for i in range(len(all_genbanks)): \n",
    "       for feature in all_genbanks[i].features:\n",
    "            if feature.type == \"CDS\":\n",
    "                if feature.qualifiers['locus_tag'][0] == lc_tag: \n",
    "                    # getting the locus tag if we see cds\n",
    "                    locus_tag_and_region = {'locus_tag':lc_tag, 'region': f'region {i+1}'}\n",
    "                    regions_for_each_locus_tag.append(locus_tag_and_region)\n",
    "regions_df = pd.DataFrame(regions_for_each_locus_tag, columns =['locus_tag', 'region'])\n",
    "regions_df['regulator_number'] = [f'Reg {i+1}' for i in range(len(regions_df))]\n",
    "\n",
    "regions_df['description'] = regulator_descriptions\n",
    "regions_df"
   ]
  },
  {
   "cell_type": "markdown",
   "metadata": {},
   "source": [
    "Manually, we have inspected the clusters and we are interested in the products from  14, 28, 38"
   ]
  },
  {
   "cell_type": "markdown",
   "metadata": {},
   "source": [
    "### All regulators"
   ]
  },
  {
   "cell_type": "code",
   "execution_count": 15,
   "metadata": {},
   "outputs": [
    {
     "name": "stdout",
     "output_type": "stream",
     "text": [
      "Total transcriptional regulators : 531\n"
     ]
    },
    {
     "data": {
      "text/plain": [
       "['LLPMBPKK_00020',\n",
       " 'LLPMBPKK_00064',\n",
       " 'LLPMBPKK_00191',\n",
       " 'LLPMBPKK_00217',\n",
       " 'LLPMBPKK_00244',\n",
       " 'LLPMBPKK_00260',\n",
       " 'LLPMBPKK_00283',\n",
       " 'LLPMBPKK_00293',\n",
       " 'LLPMBPKK_00328',\n",
       " 'LLPMBPKK_00353']"
      ]
     },
     "execution_count": 15,
     "metadata": {},
     "output_type": "execute_result"
    }
   ],
   "source": [
    "## If we just look at all regulators\n",
    "transcriptional_regulators = []\n",
    "for qualifier in qualifiers: \n",
    "    if 'product' in qualifier: \n",
    "        if 'transcriptional regulator' in  qualifier['product'][0]: \n",
    "            #tf = [qualifier['locus_tag'],qualifier['product']]\n",
    "            transcriptional_regulators.append(qualifier['locus_tag'][0])\n",
    "print(f'Total transcriptional regulators : {len(transcriptional_regulators)}')\n",
    "transcriptional_regulators[:10]"
   ]
  },
  {
   "cell_type": "code",
   "execution_count": 16,
   "metadata": {},
   "outputs": [
    {
     "name": "stdout",
     "output_type": "stream",
     "text": [
      "Number of regulators: 87\n",
      "Sample of regulator_descriptions:\n"
     ]
    },
    {
     "data": {
      "text/plain": [
       "{'LLPMBPKK_00291': 'sensor histidine kinase (Score: 173.2; E-value: 1.5e-52)',\n",
       " 'LLPMBPKK_00292': 'LuxR family DNA-binding response regulator (Score: 187.1; E-value: 4.1e-57)',\n",
       " 'LLPMBPKK_00293': 'MarR family transcriptional regulator (Score: 104.6; E-value: 4.9e-32)',\n",
       " 'LLPMBPKK_00297': 'response regulator (Score: 163.1; E-value: 1.2e-49)',\n",
       " 'LLPMBPKK_00328': 'LuxR family transcriptional regulator (Score: 972.3; E-value: 4.8e-294)',\n",
       " 'LLPMBPKK_00474': 'MarR family transcriptional regulator (Score: 59.4; E-value: 4.7e-18)',\n",
       " 'LLPMBPKK_00476': 'TetR family transcriptional regulator (Score: 90.6; E-value: 2.7e-27)',\n",
       " 'LLPMBPKK_00481': 'TetR family transcriptional regulator (Score: 88.7; E-value: 1.1e-26)',\n",
       " 'LLPMBPKK_00488': 'RNA polymerase, sigma-24 subunit, ECF subfamily (Score: 121.3; E-value: 5.4e-37)',\n",
       " 'LLPMBPKK_00524': 'transcriptional regulator, MerR family (Score: 110.7; E-value: 1.9e-33)',\n",
       " 'LLPMBPKK_00577': 'LysR family transcriptional regulator (Score: 158.7; E-value: 3e-48)',\n",
       " 'LLPMBPKK_00586': 'LuxR family DNA-binding response regulator (Score: 166.8; E-value: 6.4e-51)',\n",
       " 'LLPMBPKK_00587': 'sensor histidine kinase (Score: 212.9; E-value: 1.3e-64)',\n",
       " 'LLPMBPKK_00606': 'TetR family transcriptional regulator (Score: 82.7; E-value: 7.3e-25)',\n",
       " 'LLPMBPKK_00713': 'TetR family transcriptional regulator (Score: 64.9; E-value: 2.2e-19)',\n",
       " 'LLPMBPKK_00729': 'TetR family transcriptional regulator (Score: 125.2; E-value: 5.7e-38)',\n",
       " 'LLPMBPKK_01150': 'response regulator (Score: 167.5; E-value: 5.5e-51)',\n",
       " 'LLPMBPKK_01151': 'response regulator (Score: 197.2; E-value: 4.5e-60)',\n",
       " 'LLPMBPKK_01152': 'sensor histidine kinase (Score: 205.2; E-value: 4.1e-62)',\n",
       " 'LLPMBPKK_01153': 'response regulator (Score: 185.8; E-value: 1.4e-56)',\n",
       " 'LLPMBPKK_01416': 'TetR family transcriptional regulator (Score: 180.4; E-value: 8.1e-55)',\n",
       " 'LLPMBPKK_01423': 'AsnC family transcriptional regulator (Score: 169.5; E-value: 5.7e-52)',\n",
       " 'LLPMBPKK_01488': 'transcriptional regulator, SARP family (Score: 314.4; E-value: 3.3e-95)',\n",
       " 'LLPMBPKK_01497': 'ArsR family transcriptional regulator (Score: 68.9; E-value: 4.4e-21)',\n",
       " 'LLPMBPKK_01514': 'AraC family transcriptional regulator (Score: 82.2; E-value: 5.9e-25)',\n",
       " 'LLPMBPKK_02145': 'AraC family transcriptional regulator (Score: 75.4; E-value: 7.1e-23)',\n",
       " 'LLPMBPKK_02185': 'TetR family transcriptional regulator (Score: 70.9; E-value: 3e-21)',\n",
       " 'LLPMBPKK_02197': 'transcriptional regulator, SARP family (Score: 259.2; E-value: 1.5e-78)',\n",
       " 'LLPMBPKK_02209': 'LuxR family DNA-binding response regulator (Score: 66; E-value: 4.5e-20)',\n",
       " 'LLPMBPKK_02218': 'TetR family transcriptional regulator (Score: 69.6; E-value: 7.7e-21)',\n",
       " 'LLPMBPKK_02221': 'TetR family transcriptional regulator (Score: 68.6; E-value: 1.5e-20)',\n",
       " 'LLPMBPKK_02225': 'TetR family transcriptional regulator (Score: 138.8; E-value: 3.9e-42)',\n",
       " 'LLPMBPKK_02231': 'TetR family transcriptional regulator (Score: 69.1; E-value: 1.1e-20)',\n",
       " 'LLPMBPKK_02524': 'GntR family transcriptional regulator (Score: 141.4; E-value: 5.7e-43)',\n",
       " 'LLPMBPKK_02551': 'AraC family transcriptional regulator (Score: 77.4; E-value: 1.7e-23)',\n",
       " 'LLPMBPKK_02560': 'response regulator (Score: 60.9; E-value: 2.2e-18)',\n",
       " 'LLPMBPKK_02562': 'sensor histidine kinase (Score: 202.4; E-value: 2.1e-61)',\n",
       " 'LLPMBPKK_02563': 'LuxR family DNA-binding response regulator (Score: 143.4; E-value: 9.7e-44)',\n",
       " 'LLPMBPKK_02569': 'TetR family transcriptional regulator (Score: 86; E-value: 7.2e-26)',\n",
       " 'LLPMBPKK_02633': 'transcriptional regulator, SARP family (Score: 266.8; E-value: 7.8e-81)',\n",
       " 'LLPMBPKK_02635': 'LuxR family DNA-binding response regulator (Score: 151.1; E-value: 4.3e-46)',\n",
       " 'LLPMBPKK_02636': 'sensor histidine kinase (Score: 155.7; E-value: 3.2e-47)',\n",
       " 'LLPMBPKK_02637': 'LuxR family DNA-binding response regulator (Score: 175.3; E-value: 1.7e-53)',\n",
       " 'LLPMBPKK_02638': 'sensor histidine kinase (Score: 185.3; E-value: 3.3e-56)',\n",
       " 'LLPMBPKK_02661': 'LysR family transcriptional regulator (Score: 104.2; E-value: 1.3e-31)',\n",
       " 'LLPMBPKK_02662': 'transcriptional regulator, SARP family (Score: 252.9; E-value: 1.2e-76)',\n",
       " 'LLPMBPKK_02680': 'AraC family transcriptional regulator (Score: 79.9; E-value: 4e-24)',\n",
       " 'LLPMBPKK_02681': 'transcriptional regulator, MerR family (Score: 86.3; E-value: 5.5e-26)',\n",
       " 'LLPMBPKK_03735': 'cold-shock DNA-binding domain protein (Score: 65.1; E-value: 7.9e-20)',\n",
       " 'LLPMBPKK_04045': 'TetR family transcriptional regulator (Score: 96.3; E-value: 5.1e-29)',\n",
       " 'LLPMBPKK_04046': 'response regulator (Score: 191.4; E-value: 2.7e-58)',\n",
       " 'LLPMBPKK_05264': 'RNA polymerase, sigma-24 subunit, ECF subfamily (Score: 159.8; E-value: 8.3e-49)',\n",
       " 'LLPMBPKK_05272': 'AraC family transcriptional regulator (Score: 92.6; E-value: 4.2e-28)',\n",
       " 'LLPMBPKK_05278': 'GntR family transcriptional regulator (Score: 269.3; E-value: 4.8e-82)',\n",
       " 'LLPMBPKK_05992': 'LuxR family DNA-binding response regulator (Score: 84.7; E-value: 8.6e-26)',\n",
       " 'LLPMBPKK_06041': 'GntR family transcriptional regulator (Score: 249.6; E-value: 4.8e-76)',\n",
       " 'LLPMBPKK_06125': 'TetR family transcriptional regulator (Score: 78.7; E-value: 1.3e-23)',\n",
       " 'LLPMBPKK_06273': 'transcriptional regulator, MarR family (Score: 96.8; E-value: 1.6e-29)',\n",
       " 'LLPMBPKK_06334': 'response regulator (Score: 160.3; E-value: 8.7e-49)',\n",
       " 'LLPMBPKK_06337': 'transcriptional regulator, SARP family (Score: 511.2; E-value: 9.9e-155)',\n",
       " 'LLPMBPKK_06338': 'transcriptional regulator, MerR family (Score: 114; E-value: 1.8e-34)',\n",
       " 'LLPMBPKK_06419': 'MarR family transcriptional regulator (Score: 93.7; E-value: 1.2e-28)',\n",
       " 'LLPMBPKK_06422': 'transcriptional regulator, SARP family (Score: 476.5; E-value: 3.1e-144)',\n",
       " 'LLPMBPKK_06432': 'TetR family transcriptional regulator (Score: 84.2; E-value: 2.6e-25)',\n",
       " 'LLPMBPKK_06435': 'TetR family transcriptional regulator (Score: 120.3; E-value: 1.8e-36)',\n",
       " 'LLPMBPKK_06906': 'response regulator (Score: 61.2; E-value: 1.8e-18)',\n",
       " 'LLPMBPKK_06907': 'LuxR family transcriptional regulator (Score: 62.2; E-value: 4.9e-19)',\n",
       " 'LLPMBPKK_07195': 'MarR family transcriptional regulator (Score: 84.8; E-value: 6.9e-26)',\n",
       " 'LLPMBPKK_07377': 'AsnC family transcriptional regulator (Score: 111.2; E-value: 5.6e-34)',\n",
       " 'LLPMBPKK_07389': 'TetR family transcriptional regulator (Score: 71.1; E-value: 2.1e-21)',\n",
       " 'LLPMBPKK_07391': 'transcriptional regulator (Score: 95.2; E-value: 2.3e-29)',\n",
       " 'LLPMBPKK_07531': 'LuxR family transcriptional regulator (Score: 158; E-value: 5.7e-48)',\n",
       " 'LLPMBPKK_07538': 'PadR family transcriptional regulator (Score: 180.2; E-value: 5.5e-55)',\n",
       " 'LLPMBPKK_07575': 'LysR family transcriptional regulator (Score: 160; E-value: 1.2e-48)',\n",
       " 'LLPMBPKK_07594': 'GntR family transcriptional regulator (Score: 148.3; E-value: 4.6e-45)',\n",
       " 'LLPMBPKK_07658': 'AraC family transcriptional regulator (Score: 89.8; E-value: 2.9e-27)',\n",
       " 'LLPMBPKK_07669': 'PadR family transcriptional regulator (Score: 188.8; E-value: 1.3e-57)',\n",
       " 'LLPMBPKK_07674': 'extracytoplasmic-function sigma-70 factor (Score: 75.5; E-value: 7.9e-23)',\n",
       " 'LLPMBPKK_07723': 'LacI family transcription regulator (Score: 326.1; E-value: 4.2e-99)',\n",
       " 'LLPMBPKK_07727': 'LysR family transcriptional regulator (Score: 170.3; E-value: 9.1e-52)',\n",
       " 'LLPMBPKK_07744': 'LuxR family transcriptional regulator (Score: 117.2; E-value: 1.2e-35)',\n",
       " 'LLPMBPKK_07870': 'TetR family transcriptional regulator (Score: 101.7; E-value: 8.8e-31)',\n",
       " 'LLPMBPKK_07886': 'transcriptional regulator, MarR family (Score: 85.1; E-value: 6.4e-26)',\n",
       " 'LLPMBPKK_07922': 'TetR family transcriptional regulator (Score: 86.7; E-value: 4.6e-26)',\n",
       " 'LLPMBPKK_07949': 'transcriptional regulator, SARP family (Score: 358.4; E-value: 1.5e-108)',\n",
       " 'LLPMBPKK_07960': 'TetR family transcriptional regulator (Score: 146.1; E-value: 2.3e-44)',\n",
       " 'LLPMBPKK_08091': 'LysR family transcriptional regulator (Score: 230.7; E-value: 3.7e-70)'}"
      ]
     },
     "execution_count": 16,
     "metadata": {},
     "output_type": "execute_result"
    }
   ],
   "source": [
    "regulators_in_all_bgcs = []\n",
    "regulator_descriptions_in_all_bgcs = {}\n",
    "for qualifier in qualifiers:\n",
    "    if 'gene_kind' in qualifier:\n",
    "        locus_tag = qualifier['locus_tag'][0]\n",
    "        if 'regulatory' in qualifier['gene_functions'][0]:\n",
    "            regulator_descriptions_in_all_bgcs[locus_tag] = qualifier['gene_functions'][0][30:]\n",
    "            regulators_in_all_bgcs.append(qualifier)\n",
    "        \n",
    "\n",
    "print(f\"Number of regulators: {len(regulators_in_all_bgcs)}\")\n",
    "print(\"Sample of regulator_descriptions:\")\n",
    "regulator_descriptions_in_all_bgcs"
   ]
  },
  {
   "cell_type": "markdown",
   "metadata": {},
   "source": [
    "Find the regions"
   ]
  },
  {
   "cell_type": "code",
   "execution_count": 17,
   "metadata": {},
   "outputs": [],
   "source": [
    "regions_for_each_locus_tag = []\n",
    "for lc_tag in regulator_descriptions_in_all_bgcs: \n",
    "    for i in range(len(all_genbanks)): \n",
    "       for feature in all_genbanks[i].features:\n",
    "            if feature.type == \"CDS\":\n",
    "                if feature.qualifiers['locus_tag'][0] == lc_tag: \n",
    "                    # getting the locus tag if we see cds\n",
    "                    locus_tag_and_region = {'locus_tag':lc_tag, 'region': f'region {i+1}'}\n",
    "                    regions_for_each_locus_tag.append(locus_tag_and_region)\n",
    "\n",
    "regions_df1 = pd.DataFrame(regions_for_each_locus_tag, columns =['locus_tag', 'region'])\n",
    "\n",
    "# Add descriptions from the regulator_descriptions dictionary\n",
    "descriptions_for_bgc_rgs = []\n",
    "for description in regions_df1['locus_tag'].to_list(): \n",
    "    my_description = regulator_descriptions_in_all_bgcs[description]\n",
    "    descriptions_for_bgc_rgs.append(my_description)\n",
    "regions_df1['description'] =descriptions_for_bgc_rgs\n",
    "\n",
    "regions_df1.to_excel('data_for_drylab/all_regulators_in_bgcs.xlsx')"
   ]
  },
  {
   "cell_type": "markdown",
   "metadata": {},
   "source": [
    "lets rows with regulators we already have made:"
   ]
  },
  {
   "cell_type": "code",
   "execution_count": 18,
   "metadata": {},
   "outputs": [
    {
     "name": "stdout",
     "output_type": "stream",
     "text": [
      "Number of rows in regions_df1 after removal: 69\n"
     ]
    },
    {
     "data": {
      "text/html": [
       "<div>\n",
       "<style scoped>\n",
       "    .dataframe tbody tr th:only-of-type {\n",
       "        vertical-align: middle;\n",
       "    }\n",
       "\n",
       "    .dataframe tbody tr th {\n",
       "        vertical-align: top;\n",
       "    }\n",
       "\n",
       "    .dataframe thead th {\n",
       "        text-align: right;\n",
       "    }\n",
       "</style>\n",
       "<table border=\"1\" class=\"dataframe\">\n",
       "  <thead>\n",
       "    <tr style=\"text-align: right;\">\n",
       "      <th></th>\n",
       "      <th>locus_tag</th>\n",
       "      <th>region</th>\n",
       "      <th>description</th>\n",
       "    </tr>\n",
       "  </thead>\n",
       "  <tbody>\n",
       "    <tr>\n",
       "      <th>0</th>\n",
       "      <td>LLPMBPKK_00291</td>\n",
       "      <td>region 1</td>\n",
       "      <td>sensor histidine kinase (Score: 173.2; E-value...</td>\n",
       "    </tr>\n",
       "    <tr>\n",
       "      <th>2</th>\n",
       "      <td>LLPMBPKK_00293</td>\n",
       "      <td>region 1</td>\n",
       "      <td>MarR family transcriptional regulator (Score: ...</td>\n",
       "    </tr>\n",
       "    <tr>\n",
       "      <th>3</th>\n",
       "      <td>LLPMBPKK_00297</td>\n",
       "      <td>region 1</td>\n",
       "      <td>response regulator (Score: 163.1; E-value: 1.2...</td>\n",
       "    </tr>\n",
       "    <tr>\n",
       "      <th>5</th>\n",
       "      <td>LLPMBPKK_00474</td>\n",
       "      <td>region 2</td>\n",
       "      <td>MarR family transcriptional regulator (Score: ...</td>\n",
       "    </tr>\n",
       "    <tr>\n",
       "      <th>6</th>\n",
       "      <td>LLPMBPKK_00476</td>\n",
       "      <td>region 2</td>\n",
       "      <td>TetR family transcriptional regulator (Score: ...</td>\n",
       "    </tr>\n",
       "    <tr>\n",
       "      <th>...</th>\n",
       "      <td>...</td>\n",
       "      <td>...</td>\n",
       "      <td>...</td>\n",
       "    </tr>\n",
       "    <tr>\n",
       "      <th>81</th>\n",
       "      <td>LLPMBPKK_07870</td>\n",
       "      <td>region 37</td>\n",
       "      <td>TetR family transcriptional regulator (Score: ...</td>\n",
       "    </tr>\n",
       "    <tr>\n",
       "      <th>82</th>\n",
       "      <td>LLPMBPKK_07886</td>\n",
       "      <td>region 37</td>\n",
       "      <td>transcriptional regulator, MarR family (Score:...</td>\n",
       "    </tr>\n",
       "    <tr>\n",
       "      <th>83</th>\n",
       "      <td>LLPMBPKK_07922</td>\n",
       "      <td>region 38</td>\n",
       "      <td>TetR family transcriptional regulator (Score: ...</td>\n",
       "    </tr>\n",
       "    <tr>\n",
       "      <th>85</th>\n",
       "      <td>LLPMBPKK_07960</td>\n",
       "      <td>region 38</td>\n",
       "      <td>TetR family transcriptional regulator (Score: ...</td>\n",
       "    </tr>\n",
       "    <tr>\n",
       "      <th>86</th>\n",
       "      <td>LLPMBPKK_08091</td>\n",
       "      <td>region 39</td>\n",
       "      <td>LysR family transcriptional regulator (Score: ...</td>\n",
       "    </tr>\n",
       "  </tbody>\n",
       "</table>\n",
       "<p>69 rows × 3 columns</p>\n",
       "</div>"
      ],
      "text/plain": [
       "         locus_tag     region  \\\n",
       "0   LLPMBPKK_00291   region 1   \n",
       "2   LLPMBPKK_00293   region 1   \n",
       "3   LLPMBPKK_00297   region 1   \n",
       "5   LLPMBPKK_00474   region 2   \n",
       "6   LLPMBPKK_00476   region 2   \n",
       "..             ...        ...   \n",
       "81  LLPMBPKK_07870  region 37   \n",
       "82  LLPMBPKK_07886  region 37   \n",
       "83  LLPMBPKK_07922  region 38   \n",
       "85  LLPMBPKK_07960  region 38   \n",
       "86  LLPMBPKK_08091  region 39   \n",
       "\n",
       "                                          description  \n",
       "0   sensor histidine kinase (Score: 173.2; E-value...  \n",
       "2   MarR family transcriptional regulator (Score: ...  \n",
       "3   response regulator (Score: 163.1; E-value: 1.2...  \n",
       "5   MarR family transcriptional regulator (Score: ...  \n",
       "6   TetR family transcriptional regulator (Score: ...  \n",
       "..                                                ...  \n",
       "81  TetR family transcriptional regulator (Score: ...  \n",
       "82  transcriptional regulator, MarR family (Score:...  \n",
       "83  TetR family transcriptional regulator (Score: ...  \n",
       "85  TetR family transcriptional regulator (Score: ...  \n",
       "86  LysR family transcriptional regulator (Score: ...  \n",
       "\n",
       "[69 rows x 3 columns]"
      ]
     },
     "execution_count": 18,
     "metadata": {},
     "output_type": "execute_result"
    }
   ],
   "source": [
    "# Now, remove rows that have locus_tag values present in regions_df\n",
    "regions_df1_filtered = regions_df1[~regions_df1['locus_tag'].isin(regions_df['locus_tag'])]\n",
    "regions_df1_filtered.to_excel('data_for_drylab/all_regulators_in_bgcs_filtered.xlsx')\n",
    "\n",
    "# Display the result\n",
    "print(f\"Number of rows in regions_df1 after removal: {len(regions_df1_filtered)}\")\n",
    "regions_df1_filtered"
   ]
  },
  {
   "cell_type": "markdown",
   "metadata": {},
   "source": [
    "### We focus on BGC 14"
   ]
  },
  {
   "cell_type": "code",
   "execution_count": 19,
   "metadata": {},
   "outputs": [
    {
     "data": {
      "text/html": [
       "<div>\n",
       "<style scoped>\n",
       "    .dataframe tbody tr th:only-of-type {\n",
       "        vertical-align: middle;\n",
       "    }\n",
       "\n",
       "    .dataframe tbody tr th {\n",
       "        vertical-align: top;\n",
       "    }\n",
       "\n",
       "    .dataframe thead th {\n",
       "        text-align: right;\n",
       "    }\n",
       "</style>\n",
       "<table border=\"1\" class=\"dataframe\">\n",
       "  <thead>\n",
       "    <tr style=\"text-align: right;\">\n",
       "      <th></th>\n",
       "      <th>locus_tag</th>\n",
       "      <th>region</th>\n",
       "      <th>description</th>\n",
       "    </tr>\n",
       "  </thead>\n",
       "  <tbody>\n",
       "    <tr>\n",
       "      <th>0</th>\n",
       "      <td>LLPMBPKK_02636</td>\n",
       "      <td>region 14</td>\n",
       "      <td>sensor histidine kinase (Score: 155.7; E-value...</td>\n",
       "    </tr>\n",
       "    <tr>\n",
       "      <th>1</th>\n",
       "      <td>LLPMBPKK_02638</td>\n",
       "      <td>region 14</td>\n",
       "      <td>sensor histidine kinase (Score: 185.3; E-value...</td>\n",
       "    </tr>\n",
       "    <tr>\n",
       "      <th>2</th>\n",
       "      <td>LLPMBPKK_02661</td>\n",
       "      <td>region 14</td>\n",
       "      <td>LysR family transcriptional regulator (Score: ...</td>\n",
       "    </tr>\n",
       "    <tr>\n",
       "      <th>3</th>\n",
       "      <td>LLPMBPKK_02680</td>\n",
       "      <td>region 14</td>\n",
       "      <td>AraC family transcriptional regulator (Score: ...</td>\n",
       "    </tr>\n",
       "    <tr>\n",
       "      <th>4</th>\n",
       "      <td>LLPMBPKK_02681</td>\n",
       "      <td>region 14</td>\n",
       "      <td>transcriptional regulator, MerR family (Score:...</td>\n",
       "    </tr>\n",
       "  </tbody>\n",
       "</table>\n",
       "</div>"
      ],
      "text/plain": [
       "        locus_tag     region  \\\n",
       "0  LLPMBPKK_02636  region 14   \n",
       "1  LLPMBPKK_02638  region 14   \n",
       "2  LLPMBPKK_02661  region 14   \n",
       "3  LLPMBPKK_02680  region 14   \n",
       "4  LLPMBPKK_02681  region 14   \n",
       "\n",
       "                                         description  \n",
       "0  sensor histidine kinase (Score: 155.7; E-value...  \n",
       "1  sensor histidine kinase (Score: 185.3; E-value...  \n",
       "2  LysR family transcriptional regulator (Score: ...  \n",
       "3  AraC family transcriptional regulator (Score: ...  \n",
       "4  transcriptional regulator, MerR family (Score:...  "
      ]
     },
     "execution_count": 19,
     "metadata": {},
     "output_type": "execute_result"
    }
   ],
   "source": [
    "# Define the regions to exclude\n",
    "regions_to_keep = ['region 14']\n",
    "\n",
    "# Filter the DataFrame\n",
    "filtered_df_14 = regions_df1_filtered[regions_df1_filtered['region'].isin(regions_to_keep)]\n",
    "\n",
    "# Optionally, reset the index\n",
    "filtered_df_14 = filtered_df_14.reset_index(drop=True)\n",
    "\n",
    "# excel file\n",
    "filtered_df_14.to_excel('data_for_drylab/region14_regulators_in_bgcs_filtered.xlsx')\n",
    "\n",
    "# Display the filtered DataFrame\n",
    "filtered_df_14"
   ]
  },
  {
   "cell_type": "markdown",
   "metadata": {},
   "source": [
    "Lets get the sequences: "
   ]
  },
  {
   "cell_type": "code",
   "execution_count": 20,
   "metadata": {},
   "outputs": [],
   "source": [
    "from Bio.SeqRecord import SeqRecord\n",
    "from Bio.SeqFeature import SeqFeature, FeatureLocation"
   ]
  },
  {
   "cell_type": "code",
   "execution_count": 21,
   "metadata": {},
   "outputs": [
    {
     "data": {
      "text/plain": [
       "[SeqRecord(seq=Seq('ATGTGCCGACACAAGTCCTCGCCAAAGGCGACCGAGGGCTCCGGGCAGCCGGAC...TGA'), id='LLPMBPKK_02636', name='LLPMBPKK_02636', description='regulatory (smcogs) SMCOG1048:sensor histidine kinase (Score: 155.7; E-value: 3.2e-47)', dbxrefs=[]),\n",
       " SeqRecord(seq=Seq('GTGTCCCAGTGGCAGCAGCAGCCGAGCGACCGGCTCACCCTGGACCGGATCCGT...TGA'), id='LLPMBPKK_02638', name='LLPMBPKK_02638', description='regulatory (smcogs) SMCOG1048:sensor histidine kinase (Score: 185.3; E-value: 3.3e-56)', dbxrefs=[]),\n",
       " SeqRecord(seq=Seq('ATGGACATCGAATTGAGGCATGCGCGGATCGTCGTCACGATAAGTGAAGCCGGA...TGA'), id='LLPMBPKK_02661', name='LLPMBPKK_02661', description='regulatory (smcogs) SMCOG1014:LysR family transcriptional regulator (Score: 104.2; E-value: 1.3e-31)', dbxrefs=[]),\n",
       " SeqRecord(seq=Seq('ATGGGGGAACAGGCGTCGTGGACGCGGACCCGGCTGGGCCGTTGCGGGCCGCCG...TGA'), id='LLPMBPKK_02680', name='LLPMBPKK_02680', description='regulatory (smcogs) SMCOG1260:AraC family transcriptional regulator (Score: 79.9; E-value: 4e-24)', dbxrefs=[]),\n",
       " SeqRecord(seq=Seq('ATGCGGATCGGAGAACTCGCCGCCGCCGTCGGCGTCACGACGCGGACCGTGCGG...TGA'), id='LLPMBPKK_02681', name='LLPMBPKK_02681', description='regulatory (smcogs) SMCOG1171:transcriptional regulator, MerR family (Score: 86.3; E-value: 5.5e-26)', dbxrefs=[])]"
      ]
     },
     "execution_count": 21,
     "metadata": {},
     "output_type": "execute_result"
    }
   ],
   "source": [
    "my_regulator_sequences_for_bgc14 = []\n",
    "for i in range(len(cds)): \n",
    "    if cds[i].qualifiers['locus_tag'][0] in filtered_df_14['locus_tag'].to_list(): \n",
    "        feature_sequence = SeqRecord(cds[i].extract(go4010.seq), id = cds[i].qualifiers['locus_tag'][0],name = cds[i].qualifiers['locus_tag'][0], description = cds[i].qualifiers['gene_functions'][0] )\n",
    "        \n",
    "        # annotation\n",
    "        feature_location = FeatureLocation(start=0, end=len(feature_sequence))\n",
    "        my_feature = SeqFeature(location=feature_location, type='gene', \n",
    "                                qualifiers={\"name\": cds[i].qualifiers['locus_tag'][0], \n",
    "                                            \"product\": cds[i].qualifiers['locus_tag'][0],\n",
    "                                            \"description\": cds[i].qualifiers['gene_functions'][0]})\n",
    "        feature_sequence.features.append(my_feature)\n",
    "        \n",
    "        # saving feature\n",
    "        my_regulator_sequences_for_bgc14.append(feature_sequence)\n",
    "\n",
    "my_regulator_sequences_for_bgc14"
   ]
  },
  {
   "cell_type": "code",
   "execution_count": 22,
   "metadata": {},
   "outputs": [],
   "source": [
    "with open('../wet_lab_notebooks/data_for_drylab/remaining_regulators_from_region14.gb', 'w') as outfile:\n",
    "    for i in range(0, len(my_regulator_sequences_for_bgc14)):\n",
    "        my_regulator_sequences_for_bgc14[i].annotations[\"molecule_type\"] = \"DNA\"\n",
    "        print(my_regulator_sequences_for_bgc14[i].format(\"gb\"), file = outfile)"
   ]
  },
  {
   "cell_type": "code",
   "execution_count": 23,
   "metadata": {},
   "outputs": [
    {
     "data": {
      "text/plain": [
       "'Number of regulator sequences: 5'"
      ]
     },
     "execution_count": 23,
     "metadata": {},
     "output_type": "execute_result"
    }
   ],
   "source": [
    "f'Number of regulator sequences: {len(my_regulator_sequences_for_bgc14)}'"
   ]
  },
  {
   "cell_type": "markdown",
   "metadata": {},
   "source": [
    "## Checking colibormycin - Streptomyces sp. CS147\n"
   ]
  },
  {
   "cell_type": "markdown",
   "metadata": {},
   "source": [
    "- DBP21_RS21605 cbm16 SARP transcriptional regulator 4,741,630 - 4,742,427\n",
    "\n",
    "- DBP21_RS21610 cbm17 LysR transcriptional regulator 4,742,644 - 4,743,618"
   ]
  },
  {
   "cell_type": "markdown",
   "metadata": {},
   "source": [
    "https://www.ncbi.nlm.nih.gov/nuccore/NZ_QBIA00000000.1"
   ]
  },
  {
   "cell_type": "code",
   "execution_count": 24,
   "metadata": {},
   "outputs": [],
   "source": [
    "s_cs147 = read_genbank_files('../wet_lab_notebooks/s_cs147.gb')[0]"
   ]
  },
  {
   "cell_type": "code",
   "execution_count": 25,
   "metadata": {},
   "outputs": [
    {
     "data": {
      "text/plain": [
       "SeqRecord(seq=Seq('AGTTGAGACTGCCGCCACTGCTTCTCCGGACGACCAGTGGAAAAGGCGTCTGCG...GGC'), id='KZ819182.1', name='KZ819182', description='Streptomyces sp. CS147 genomic scaffold scaffold00001, whole genome shotgun sequence', dbxrefs=['BioProject:PRJNA449329', 'BioSample:SAMN08896652'])"
      ]
     },
     "execution_count": 25,
     "metadata": {},
     "output_type": "execute_result"
    }
   ],
   "source": [
    "s_cs147"
   ]
  },
  {
   "cell_type": "code",
   "execution_count": 26,
   "metadata": {},
   "outputs": [],
   "source": [
    "tags_from_paper = ['DBP21_21605', 'DBP21_21610']\n",
    "\n",
    "new_tags_from_my_search = ['DBP21_21620', 'DBP21_21625']\n",
    "# How many genes do we have?\n",
    "locus_tags_s_cs147 = []\n",
    "qualifiers_s_cs147 = []\n",
    "cds_s_cs147 = []\n",
    "\n",
    "for feature in s_cs147.features:\n",
    "    if feature.type == 'CDS': \n",
    "        # getting the locus tag if we see cds\n",
    "\n",
    "        #print(feature.qualifiers['locus_tag'][0])\n",
    "        if feature.qualifiers['locus_tag'][0] in new_tags_from_my_search:\n",
    "            locus_tags_s_cs147.append(feature.qualifiers['locus_tag'][0])\n",
    "            qualifiers_s_cs147.append(feature.qualifiers)\n",
    "\n",
    "            # All CDS features\n",
    "            cds_s_cs147.append(feature)"
   ]
  },
  {
   "cell_type": "code",
   "execution_count": 27,
   "metadata": {},
   "outputs": [
    {
     "data": {
      "text/plain": [
       "[{'locus_tag': ['DBP21_21620'],\n",
       "  'inference': ['COORDINATES: similar to AA sequence:RefSeq:WP_015100637.1'],\n",
       "  'note': ['Derived by automated computational analysis using gene prediction method: Protein Homology.'],\n",
       "  'codon_start': ['1'],\n",
       "  'transl_table': ['11'],\n",
       "  'product': ['SARP family transcriptional regulator'],\n",
       "  'protein_id': ['PVC99858.1'],\n",
       "  'translation': ['MEINILGALSLTCGQRSAEVASKRVSTVLTLLALSPGTPIPFDQLVDELWADQPMGNARNALQANVSRLRRLLESVTRTPSDGIVRTVSSGYLLDVPTEAVDVHRFVALASAGAGLVHKDPAEAVEKLERALGLWRGPALMDARDGLRCRVQAAHLEERRLTVYEDLVAAKLAACSERISLPELRQLAADHSERERLTELLMLALYREGRQAEALDVFHGARRRLAAELGLEPGPALHLVYQAILNQDPMLGQPRHVLLYAAPAS']},\n",
       " {'locus_tag': ['DBP21_21625'],\n",
       "  'inference': ['COORDINATES: similar to AA sequence:RefSeq:WP_015037412.1'],\n",
       "  'note': ['Derived by automated computational analysis using gene prediction method: Protein Homology.'],\n",
       "  'codon_start': ['1'],\n",
       "  'transl_table': ['11'],\n",
       "  'product': ['LysR family transcriptional regulator'],\n",
       "  'protein_id': ['PVC99859.1'],\n",
       "  'translation': ['MDLELRHARIVLTIDACGSISRAAVRLNLPQPSLTAQLRRIEKSVGGDLFIRSRAGISPTLLGNRLLPMMADLVRQADAVIGEAAAYTSRTLRFGNTEWTPPTLRGALQAAMPSVDVQTETLAPAAAVEAVQRGALAAAMIPYSAYVSATDETRAGLATTAVVREPIWLAVPQGHVLAGHDSVDGSQLGLLKWVRYSRDHWFHDIEKHLFAKLRLQDPAALHHVDGHHEAMSWVRDAEAVALTPPTGATRDVSLVPITETGSTEILLVWKGGAVPRDVLHKLVETVREYYCDYARTIPGYWPWIVEHSYQFAELSNYLPVGSRP']}]"
      ]
     },
     "execution_count": 27,
     "metadata": {},
     "output_type": "execute_result"
    }
   ],
   "source": [
    "qualifiers_s_cs147"
   ]
  },
  {
   "cell_type": "markdown",
   "metadata": {},
   "source": [
    "lets get the sequences"
   ]
  },
  {
   "cell_type": "code",
   "execution_count": 28,
   "metadata": {},
   "outputs": [
    {
     "data": {
      "text/plain": [
       "[SeqRecord(seq=Seq('GTGGAAATCAATATTCTGGGTGCGCTCTCGCTGACGTGTGGTCAGCGGTCGGCC...TGA'), id='DBP21_21620', name='DBP21_21620', description='<unknown description>', dbxrefs=[]),\n",
       " SeqRecord(seq=Seq('ATGGATCTCGAACTACGACATGCCCGAATTGTGCTGACAATAGATGCCTGTGGC...TGA'), id='DBP21_21625', name='DBP21_21625', description='<unknown description>', dbxrefs=[])]"
      ]
     },
     "execution_count": 28,
     "metadata": {},
     "output_type": "execute_result"
    }
   ],
   "source": [
    "regulator_sequences_from_paper = []\n",
    "for i in range(len(cds_s_cs147)): \n",
    "    if cds_s_cs147[i].qualifiers['locus_tag'][0] in new_tags_from_my_search: \n",
    "        feature_sequence = SeqRecord(cds_s_cs147[i].extract(s_cs147.seq), id = cds_s_cs147[i].qualifiers['locus_tag'][0],name = cds_s_cs147[i].qualifiers['locus_tag'][0] )\n",
    "        \n",
    "        # annotation\n",
    "        feature_location = FeatureLocation(start=0, end=len(feature_sequence))\n",
    "        my_feature = SeqFeature(location=feature_location, type='gene', \n",
    "                                qualifiers={\"name\": cds[i].qualifiers['locus_tag'][0], \n",
    "                                            \"product\": cds[i].qualifiers['locus_tag'][0],\n",
    "                                            })\n",
    "        feature_sequence.features.append(my_feature)\n",
    "        \n",
    "        # saving feature\n",
    "        regulator_sequences_from_paper.append(feature_sequence)\n",
    "    \n",
    "regulator_sequences_from_paper"
   ]
  },
  {
   "cell_type": "code",
   "execution_count": 29,
   "metadata": {},
   "outputs": [
    {
     "name": "stdout",
     "output_type": "stream",
     "text": [
      "798\n",
      "975\n"
     ]
    }
   ],
   "source": [
    "regulator_sequences_from_paper[0].name = 'SARP (DBP21_21620)'\n",
    "print(len(regulator_sequences_from_paper[0]))#.name = 'SARP predicted from paper'\n",
    "\n",
    "regulator_sequences_from_paper[1].name = 'LysR (DBP21_21625)'\n",
    "print(len(regulator_sequences_from_paper[1]))#.name = 'SARP predicted from paper'\n"
   ]
  },
  {
   "cell_type": "code",
   "execution_count": 30,
   "metadata": {},
   "outputs": [
    {
     "data": {
      "text/plain": [
       "[SeqRecord(seq=Seq('GTGGAAATCAATATTCTGGGTGCGCTCTCGCTGACGTGTGGTCAGCGGTCGGCC...TGA'), id='DBP21_21620', name='SARP (DBP21_21620)', description='<unknown description>', dbxrefs=[]),\n",
       " SeqRecord(seq=Seq('ATGGATCTCGAACTACGACATGCCCGAATTGTGCTGACAATAGATGCCTGTGGC...TGA'), id='DBP21_21625', name='LysR (DBP21_21625)', description='<unknown description>', dbxrefs=[])]"
      ]
     },
     "execution_count": 30,
     "metadata": {},
     "output_type": "execute_result"
    }
   ],
   "source": [
    "regulator_sequences_from_paper"
   ]
  },
  {
   "cell_type": "code",
   "execution_count": 31,
   "metadata": {},
   "outputs": [],
   "source": [
    "regulators = read_genbank_files('../wet_lab_notebooks/data_for_drylab/GOE_regulators.gb')\n",
    "\n",
    "sarp_11 = regulators[10]\n",
    "lysR_bgc_14 = my_regulator_sequences_for_bgc14[2]\n"
   ]
  },
  {
   "cell_type": "code",
   "execution_count": 32,
   "metadata": {},
   "outputs": [
    {
     "name": "stdout",
     "output_type": "stream",
     "text": [
      "ID: <unknown id>\n",
      "Name: <unknown name>\n",
      "Description: <unknown description>\n",
      "Number of features: 0\n",
      "/molecule_type=protein\n",
      "Seq('VEIN--I--LGALSLTC-----GQ-RS--AEVA-SKRVSTVLT--L-L-ALSPG-TPIPF-DQLV-DELWADQP---...AS--*')\n",
      "|||||||||||||||||||||||||||||||||||||||||||||||||||||||||||||||||||||||||||||||||||||||||||||||||||||||||||||||||||||||||||      |  ||  |        |  |   | |  |||    ||  | | ||||| | ||  |||  |||||      |||    |||\n",
      "ID: <unknown id>\n",
      "Name: <unknown name>\n",
      "Description: <unknown description>\n",
      "Number of features: 0\n",
      "/molecule_type=protein\n",
      "Seq('----MDIQVLG--S---VSVRYG-NR-QHA-V-GSKR----LTAILALLALSPGRT-IP-ADQL-EDELWA---GRT...--HR*')\n",
      "  Score=160\n",
      "\n"
     ]
    },
    {
     "name": "stderr",
     "output_type": "stream",
     "text": [
      "/Users/lucaslevassor/opt/anaconda3/envs/streptocad/lib/python3.11/site-packages/Bio/pairwise2.py:278: BiopythonDeprecationWarning: Bio.pairwise2 has been deprecated, and we intend to remove it in a future release of Biopython. As an alternative, please consider using Bio.Align.PairwiseAligner as a replacement, and contact the Biopython developers if you still need the Bio.pairwise2 module.\n",
      "  warnings.warn(\n"
     ]
    }
   ],
   "source": [
    "from Bio import pairwise2\n",
    "from Bio.pairwise2 import format_alignment\n",
    "\n",
    "alignments_SARPs = pairwise2.align.globalxx(regulator_sequences_from_paper[0].translate(), sarp_11.translate())\n",
    "\n",
    "print(format_alignment(*alignments_SARPs[0]))"
   ]
  },
  {
   "cell_type": "code",
   "execution_count": 33,
   "metadata": {},
   "outputs": [
    {
     "name": "stdout",
     "output_type": "stream",
     "text": [
      "ID: <unknown id>\n",
      "Name: <unknown name>\n",
      "Description: <unknown description>\n",
      "Number of features: 0\n",
      "/molecule_type=protein\n",
      "Seq('MDL-ELRHARIVL-TID--ACGSISRA-AVRLN-L--PQPSLTAQLRRIEKSV---GGD-LFI-RSR...RP--*')\n",
      "|||||||||||||||||||||||||||||||||||||||||||||||||||||||||||||||||||||||||||||||||||||||||||||||||||||||||||||||||||||||||||||  ||||||||  ||   | |||||  |   | |  |||||||||||||      ||  ||  ||||||    |||\n",
      "ID: <unknown id>\n",
      "Name: <unknown name>\n",
      "Description: <unknown description>\n",
      "Number of features: 0\n",
      "/molecule_type=protein\n",
      "Seq('MD-IELRHARIV-VTI-SEA-GSISR-GA---NELSLPQPSLTAQLRRIE---RALGG-ELF-ERSR...--AS*')\n",
      "  Score=170\n",
      "\n"
     ]
    }
   ],
   "source": [
    "from Bio import pairwise2\n",
    "alignments_LysR = pairwise2.align.globalxx(regulator_sequences_from_paper[1].translate(), lysR_bgc_14.translate())\n",
    "print(format_alignment(*alignments_LysR[0]))\n"
   ]
  },
  {
   "cell_type": "markdown",
   "metadata": {},
   "source": [
    "### Which regulator is closest homolog to the SARP from the paper? "
   ]
  },
  {
   "cell_type": "code",
   "execution_count": 34,
   "metadata": {},
   "outputs": [
    {
     "name": "stdout",
     "output_type": "stream",
     "text": [
      "Score: 148.0; percent identity: 0.56 ; for LLPMBPKK_00292 against the paper SARP (DBP21_21620)\n",
      "Score: 148.0; percent identity: 0.56 ; for LLPMBPKK_00328 against the paper SARP (DBP21_21620)\n",
      "Score: 149.0; percent identity: 0.56 ; for LLPMBPKK_00586 against the paper SARP (DBP21_21620)\n",
      "Score: 147.0; percent identity: 0.55 ; for LLPMBPKK_01488 against the paper SARP (DBP21_21620)\n",
      "Score: 154.0; percent identity: 0.58 ; for LLPMBPKK_02197 against the paper SARP (DBP21_21620)\n",
      "Score: 152.0; percent identity: 0.57 ; for LLPMBPKK_02209 against the paper SARP (DBP21_21620)\n",
      "Score: 149.0; percent identity: 0.56 ; for LLPMBPKK_02563 against the paper SARP (DBP21_21620)\n",
      "Score: 151.0; percent identity: 0.57 ; for LLPMBPKK_02633 against the paper SARP (DBP21_21620)\n",
      "Score: 150.0; percent identity: 0.56 ; for LLPMBPKK_02635 against the paper SARP (DBP21_21620)\n",
      "Score: 149.0; percent identity: 0.56 ; for LLPMBPKK_02637 against the paper SARP (DBP21_21620)\n",
      "Score: 160.0; percent identity: 0.60 ; for LLPMBPKK_02662 against the paper SARP (DBP21_21620)\n",
      "Score: 151.0; percent identity: 0.57 ; for LLPMBPKK_05992 against the paper SARP (DBP21_21620)\n",
      "Score: 151.0; percent identity: 0.57 ; for LLPMBPKK_06337 against the paper SARP (DBP21_21620)\n",
      "Score: 154.0; percent identity: 0.58 ; for LLPMBPKK_06422 against the paper SARP (DBP21_21620)\n",
      "Score: 150.0; percent identity: 0.56 ; for LLPMBPKK_06907 against the paper SARP (DBP21_21620)\n",
      "Score: 147.0; percent identity: 0.55 ; for LLPMBPKK_07531 against the paper SARP (DBP21_21620)\n",
      "Score: 147.0; percent identity: 0.55 ; for LLPMBPKK_07744 against the paper SARP (DBP21_21620)\n",
      "Score: 149.0; percent identity: 0.56 ; for LLPMBPKK_07949 against the paper SARP (DBP21_21620)\n"
     ]
    }
   ],
   "source": [
    "for reg in regulators: \n",
    "    score = pairwise2.align.globalxx(regulator_sequences_from_paper[0].translate(), reg.translate(), score_only=True)\n",
    "    percent_identity = score/len(regulator_sequences_from_paper[0].translate())\n",
    "\n",
    "    print(f'Score: {score}; percent identity: {percent_identity:.2f} ; for {reg.name} against the paper {regulator_sequences_from_paper[0].name}')"
   ]
  },
  {
   "cell_type": "code",
   "execution_count": 35,
   "metadata": {},
   "outputs": [
    {
     "name": "stdout",
     "output_type": "stream",
     "text": [
      "Score: 150.0; percent identity: 0.46 ; for LLPMBPKK_02636 against the paper LysR (DBP21_21625)\n",
      "Score: 148.0; percent identity: 0.46 ; for LLPMBPKK_02638 against the paper LysR (DBP21_21625)\n",
      "Score: 170.0; percent identity: 0.52 ; for LLPMBPKK_02661 against the paper LysR (DBP21_21625)\n",
      "Score: 149.0; percent identity: 0.46 ; for LLPMBPKK_02680 against the paper LysR (DBP21_21625)\n",
      "Score: 151.0; percent identity: 0.46 ; for LLPMBPKK_02681 against the paper LysR (DBP21_21625)\n"
     ]
    }
   ],
   "source": [
    "for reg in my_regulator_sequences_for_bgc14: \n",
    "    score = pairwise2.align.globalxx(regulator_sequences_from_paper[1].translate(), reg.translate(), score_only=True)\n",
    "    percent_identity = score/len(regulator_sequences_from_paper[1].translate())\n",
    "    print(f'Score: {score}; percent identity: {percent_identity:.2f} ; for {reg.name} against the paper {regulator_sequences_from_paper[1].name}')"
   ]
  },
  {
   "cell_type": "code",
   "execution_count": 36,
   "metadata": {},
   "outputs": [],
   "source": [
    "# FInd all SARPs in the "
   ]
  },
  {
   "cell_type": "code",
   "execution_count": 37,
   "metadata": {},
   "outputs": [
    {
     "data": {
      "text/html": [
       "<div>\n",
       "<style scoped>\n",
       "    .dataframe tbody tr th:only-of-type {\n",
       "        vertical-align: middle;\n",
       "    }\n",
       "\n",
       "    .dataframe tbody tr th {\n",
       "        vertical-align: top;\n",
       "    }\n",
       "\n",
       "    .dataframe thead th {\n",
       "        text-align: right;\n",
       "    }\n",
       "</style>\n",
       "<table border=\"1\" class=\"dataframe\">\n",
       "  <thead>\n",
       "    <tr style=\"text-align: right;\">\n",
       "      <th></th>\n",
       "      <th>locus_tag</th>\n",
       "      <th>region</th>\n",
       "      <th>description</th>\n",
       "    </tr>\n",
       "  </thead>\n",
       "  <tbody>\n",
       "    <tr>\n",
       "      <th>0</th>\n",
       "      <td>LLPMBPKK_00291</td>\n",
       "      <td>region 1</td>\n",
       "      <td>sensor histidine kinase (Score: 173.2; E-value...</td>\n",
       "    </tr>\n",
       "    <tr>\n",
       "      <th>1</th>\n",
       "      <td>LLPMBPKK_00292</td>\n",
       "      <td>region 1</td>\n",
       "      <td>LuxR family DNA-binding response regulator (Sc...</td>\n",
       "    </tr>\n",
       "    <tr>\n",
       "      <th>2</th>\n",
       "      <td>LLPMBPKK_00293</td>\n",
       "      <td>region 1</td>\n",
       "      <td>MarR family transcriptional regulator (Score: ...</td>\n",
       "    </tr>\n",
       "    <tr>\n",
       "      <th>3</th>\n",
       "      <td>LLPMBPKK_00297</td>\n",
       "      <td>region 1</td>\n",
       "      <td>response regulator (Score: 163.1; E-value: 1.2...</td>\n",
       "    </tr>\n",
       "    <tr>\n",
       "      <th>4</th>\n",
       "      <td>LLPMBPKK_00328</td>\n",
       "      <td>region 1</td>\n",
       "      <td>LuxR family transcriptional regulator (Score: ...</td>\n",
       "    </tr>\n",
       "    <tr>\n",
       "      <th>...</th>\n",
       "      <td>...</td>\n",
       "      <td>...</td>\n",
       "      <td>...</td>\n",
       "    </tr>\n",
       "    <tr>\n",
       "      <th>82</th>\n",
       "      <td>LLPMBPKK_07886</td>\n",
       "      <td>region 37</td>\n",
       "      <td>transcriptional regulator, MarR family (Score:...</td>\n",
       "    </tr>\n",
       "    <tr>\n",
       "      <th>83</th>\n",
       "      <td>LLPMBPKK_07922</td>\n",
       "      <td>region 38</td>\n",
       "      <td>TetR family transcriptional regulator (Score: ...</td>\n",
       "    </tr>\n",
       "    <tr>\n",
       "      <th>84</th>\n",
       "      <td>LLPMBPKK_07949</td>\n",
       "      <td>region 38</td>\n",
       "      <td>transcriptional regulator, SARP family (Score:...</td>\n",
       "    </tr>\n",
       "    <tr>\n",
       "      <th>85</th>\n",
       "      <td>LLPMBPKK_07960</td>\n",
       "      <td>region 38</td>\n",
       "      <td>TetR family transcriptional regulator (Score: ...</td>\n",
       "    </tr>\n",
       "    <tr>\n",
       "      <th>86</th>\n",
       "      <td>LLPMBPKK_08091</td>\n",
       "      <td>region 39</td>\n",
       "      <td>LysR family transcriptional regulator (Score: ...</td>\n",
       "    </tr>\n",
       "  </tbody>\n",
       "</table>\n",
       "<p>87 rows × 3 columns</p>\n",
       "</div>"
      ],
      "text/plain": [
       "         locus_tag     region  \\\n",
       "0   LLPMBPKK_00291   region 1   \n",
       "1   LLPMBPKK_00292   region 1   \n",
       "2   LLPMBPKK_00293   region 1   \n",
       "3   LLPMBPKK_00297   region 1   \n",
       "4   LLPMBPKK_00328   region 1   \n",
       "..             ...        ...   \n",
       "82  LLPMBPKK_07886  region 37   \n",
       "83  LLPMBPKK_07922  region 38   \n",
       "84  LLPMBPKK_07949  region 38   \n",
       "85  LLPMBPKK_07960  region 38   \n",
       "86  LLPMBPKK_08091  region 39   \n",
       "\n",
       "                                          description  \n",
       "0   sensor histidine kinase (Score: 173.2; E-value...  \n",
       "1   LuxR family DNA-binding response regulator (Sc...  \n",
       "2   MarR family transcriptional regulator (Score: ...  \n",
       "3   response regulator (Score: 163.1; E-value: 1.2...  \n",
       "4   LuxR family transcriptional regulator (Score: ...  \n",
       "..                                                ...  \n",
       "82  transcriptional regulator, MarR family (Score:...  \n",
       "83  TetR family transcriptional regulator (Score: ...  \n",
       "84  transcriptional regulator, SARP family (Score:...  \n",
       "85  TetR family transcriptional regulator (Score: ...  \n",
       "86  LysR family transcriptional regulator (Score: ...  \n",
       "\n",
       "[87 rows x 3 columns]"
      ]
     },
     "execution_count": 37,
     "metadata": {},
     "output_type": "execute_result"
    }
   ],
   "source": [
    "regions_df1"
   ]
  },
  {
   "cell_type": "code",
   "execution_count": 38,
   "metadata": {},
   "outputs": [
    {
     "data": {
      "text/html": [
       "<div>\n",
       "<style scoped>\n",
       "    .dataframe tbody tr th:only-of-type {\n",
       "        vertical-align: middle;\n",
       "    }\n",
       "\n",
       "    .dataframe tbody tr th {\n",
       "        vertical-align: top;\n",
       "    }\n",
       "\n",
       "    .dataframe thead th {\n",
       "        text-align: right;\n",
       "    }\n",
       "</style>\n",
       "<table border=\"1\" class=\"dataframe\">\n",
       "  <thead>\n",
       "    <tr style=\"text-align: right;\">\n",
       "      <th></th>\n",
       "      <th>locus_tag</th>\n",
       "      <th>region</th>\n",
       "      <th>description</th>\n",
       "    </tr>\n",
       "  </thead>\n",
       "  <tbody>\n",
       "    <tr>\n",
       "      <th>39</th>\n",
       "      <td>LLPMBPKK_02633</td>\n",
       "      <td>region 14</td>\n",
       "      <td>transcriptional regulator, SARP family (Score:...</td>\n",
       "    </tr>\n",
       "    <tr>\n",
       "      <th>40</th>\n",
       "      <td>LLPMBPKK_02635</td>\n",
       "      <td>region 14</td>\n",
       "      <td>LuxR family DNA-binding response regulator (Sc...</td>\n",
       "    </tr>\n",
       "    <tr>\n",
       "      <th>41</th>\n",
       "      <td>LLPMBPKK_02636</td>\n",
       "      <td>region 14</td>\n",
       "      <td>sensor histidine kinase (Score: 155.7; E-value...</td>\n",
       "    </tr>\n",
       "    <tr>\n",
       "      <th>42</th>\n",
       "      <td>LLPMBPKK_02637</td>\n",
       "      <td>region 14</td>\n",
       "      <td>LuxR family DNA-binding response regulator (Sc...</td>\n",
       "    </tr>\n",
       "    <tr>\n",
       "      <th>43</th>\n",
       "      <td>LLPMBPKK_02638</td>\n",
       "      <td>region 14</td>\n",
       "      <td>sensor histidine kinase (Score: 185.3; E-value...</td>\n",
       "    </tr>\n",
       "    <tr>\n",
       "      <th>44</th>\n",
       "      <td>LLPMBPKK_02661</td>\n",
       "      <td>region 14</td>\n",
       "      <td>LysR family transcriptional regulator (Score: ...</td>\n",
       "    </tr>\n",
       "    <tr>\n",
       "      <th>45</th>\n",
       "      <td>LLPMBPKK_02662</td>\n",
       "      <td>region 14</td>\n",
       "      <td>transcriptional regulator, SARP family (Score:...</td>\n",
       "    </tr>\n",
       "    <tr>\n",
       "      <th>46</th>\n",
       "      <td>LLPMBPKK_02680</td>\n",
       "      <td>region 14</td>\n",
       "      <td>AraC family transcriptional regulator (Score: ...</td>\n",
       "    </tr>\n",
       "    <tr>\n",
       "      <th>47</th>\n",
       "      <td>LLPMBPKK_02681</td>\n",
       "      <td>region 14</td>\n",
       "      <td>transcriptional regulator, MerR family (Score:...</td>\n",
       "    </tr>\n",
       "  </tbody>\n",
       "</table>\n",
       "</div>"
      ],
      "text/plain": [
       "         locus_tag     region  \\\n",
       "39  LLPMBPKK_02633  region 14   \n",
       "40  LLPMBPKK_02635  region 14   \n",
       "41  LLPMBPKK_02636  region 14   \n",
       "42  LLPMBPKK_02637  region 14   \n",
       "43  LLPMBPKK_02638  region 14   \n",
       "44  LLPMBPKK_02661  region 14   \n",
       "45  LLPMBPKK_02662  region 14   \n",
       "46  LLPMBPKK_02680  region 14   \n",
       "47  LLPMBPKK_02681  region 14   \n",
       "\n",
       "                                          description  \n",
       "39  transcriptional regulator, SARP family (Score:...  \n",
       "40  LuxR family DNA-binding response regulator (Sc...  \n",
       "41  sensor histidine kinase (Score: 155.7; E-value...  \n",
       "42  LuxR family DNA-binding response regulator (Sc...  \n",
       "43  sensor histidine kinase (Score: 185.3; E-value...  \n",
       "44  LysR family transcriptional regulator (Score: ...  \n",
       "45  transcriptional regulator, SARP family (Score:...  \n",
       "46  AraC family transcriptional regulator (Score: ...  \n",
       "47  transcriptional regulator, MerR family (Score:...  "
      ]
     },
     "execution_count": 38,
     "metadata": {},
     "output_type": "execute_result"
    }
   ],
   "source": [
    "# Define the regions to exclude\n",
    "regions_to_keep = ['region 14']\n",
    "\n",
    "# Filter the DataFrame\n",
    "df_14 = regions_df1[regions_df1['region'].isin(regions_to_keep)]\n",
    "df_14_list_of_locus_tags = df_14['locus_tag'].to_list()\n",
    "df_14"
   ]
  },
  {
   "cell_type": "code",
   "execution_count": 39,
   "metadata": {},
   "outputs": [
    {
     "data": {
      "text/plain": [
       "['LLPMBPKK_02633',\n",
       " 'LLPMBPKK_02635',\n",
       " 'LLPMBPKK_02636',\n",
       " 'LLPMBPKK_02637',\n",
       " 'LLPMBPKK_02638',\n",
       " 'LLPMBPKK_02661',\n",
       " 'LLPMBPKK_02662',\n",
       " 'LLPMBPKK_02680',\n",
       " 'LLPMBPKK_02681']"
      ]
     },
     "execution_count": 39,
     "metadata": {},
     "output_type": "execute_result"
    }
   ],
   "source": [
    "df_14_list_of_locus_tags"
   ]
  },
  {
   "cell_type": "code",
   "execution_count": 40,
   "metadata": {},
   "outputs": [
    {
     "data": {
      "text/plain": [
       "[SeqRecord(seq=Seq('ATGGCGCATCTGGACATCGGGCTCCTGGGACCGTTCACGGCGTGCATCGACGGT...TAG'), id='LLPMBPKK_02633', name='LLPMBPKK_02633', description='regulatory (smcogs) SMCOG1041:transcriptional regulator, SARP family (Score: 266.8; E-value: 7.8e-81)', dbxrefs=[]),\n",
       " SeqRecord(seq=Seq('GTGATTCGGATCCTGCTCGCAGAAGACATGAACATGGTCCGCGGGGCGCTGGTC...TAG'), id='LLPMBPKK_02635', name='LLPMBPKK_02635', description='regulatory (smcogs) SMCOG1016:LuxR family DNA-binding response regulator (Score: 151.1; E-value: 4.3e-46)', dbxrefs=[]),\n",
       " SeqRecord(seq=Seq('ATGTGCCGACACAAGTCCTCGCCAAAGGCGACCGAGGGCTCCGGGCAGCCGGAC...TGA'), id='LLPMBPKK_02636', name='LLPMBPKK_02636', description='regulatory (smcogs) SMCOG1048:sensor histidine kinase (Score: 155.7; E-value: 3.2e-47)', dbxrefs=[]),\n",
       " SeqRecord(seq=Seq('ATGACCGACACCGACAACGACCGGATCCGCGTGGTCGTGGTGGACGACCACGCC...TGA'), id='LLPMBPKK_02637', name='LLPMBPKK_02637', description='regulatory (smcogs) SMCOG1016:LuxR family DNA-binding response regulator (Score: 175.3; E-value: 1.7e-53)', dbxrefs=[]),\n",
       " SeqRecord(seq=Seq('GTGTCCCAGTGGCAGCAGCAGCCGAGCGACCGGCTCACCCTGGACCGGATCCGT...TGA'), id='LLPMBPKK_02638', name='LLPMBPKK_02638', description='regulatory (smcogs) SMCOG1048:sensor histidine kinase (Score: 185.3; E-value: 3.3e-56)', dbxrefs=[]),\n",
       " SeqRecord(seq=Seq('ATGGACATCGAATTGAGGCATGCGCGGATCGTCGTCACGATAAGTGAAGCCGGA...TGA'), id='LLPMBPKK_02661', name='LLPMBPKK_02661', description='regulatory (smcogs) SMCOG1014:LysR family transcriptional regulator (Score: 104.2; E-value: 1.3e-31)', dbxrefs=[]),\n",
       " SeqRecord(seq=Seq('ATGGACATACAGGTTCTCGGTTCGGTTTCCGTGCGGTACGGCAATCGACAGCAC...TGA'), id='LLPMBPKK_02662', name='LLPMBPKK_02662', description='regulatory (smcogs) SMCOG1041:transcriptional regulator, SARP family (Score: 252.9; E-value: 1.2e-76)', dbxrefs=[]),\n",
       " SeqRecord(seq=Seq('ATGGGGGAACAGGCGTCGTGGACGCGGACCCGGCTGGGCCGTTGCGGGCCGCCG...TGA'), id='LLPMBPKK_02680', name='LLPMBPKK_02680', description='regulatory (smcogs) SMCOG1260:AraC family transcriptional regulator (Score: 79.9; E-value: 4e-24)', dbxrefs=[]),\n",
       " SeqRecord(seq=Seq('ATGCGGATCGGAGAACTCGCCGCCGCCGTCGGCGTCACGACGCGGACCGTGCGG...TGA'), id='LLPMBPKK_02681', name='LLPMBPKK_02681', description='regulatory (smcogs) SMCOG1171:transcriptional regulator, MerR family (Score: 86.3; E-value: 5.5e-26)', dbxrefs=[])]"
      ]
     },
     "execution_count": 40,
     "metadata": {},
     "output_type": "execute_result"
    }
   ],
   "source": [
    "bgc14_rgs = []\n",
    "for i in range(len(cds)): \n",
    "    if cds[i].qualifiers['locus_tag'][0] in df_14['locus_tag'].to_list(): \n",
    "        feature_sequence = SeqRecord(cds[i].extract(go4010.seq), id = cds[i].qualifiers['locus_tag'][0],name = cds[i].qualifiers['locus_tag'][0], description = cds[i].qualifiers['gene_functions'][0] )\n",
    "        \n",
    "        # annotation\n",
    "        feature_location = FeatureLocation(start=0, end=len(feature_sequence))\n",
    "        my_feature = SeqFeature(location=feature_location, type='gene', \n",
    "                                qualifiers={\"name\": cds[i].qualifiers['locus_tag'][0], \n",
    "                                            \"product\": cds[i].qualifiers['locus_tag'][0],\n",
    "                                            \"description\": cds[i].qualifiers['gene_functions'][0]})\n",
    "        feature_sequence.features.append(my_feature)\n",
    "        \n",
    "        # saving feature\n",
    "        bgc14_rgs.append(feature_sequence)\n",
    "\n",
    "bgc14_rgs"
   ]
  },
  {
   "cell_type": "code",
   "execution_count": 41,
   "metadata": {},
   "outputs": [],
   "source": [
    "# Pairwise alignment of SARP"
   ]
  },
  {
   "cell_type": "code",
   "execution_count": 42,
   "metadata": {},
   "outputs": [
    {
     "data": {
      "text/html": [
       "<div>\n",
       "<style scoped>\n",
       "    .dataframe tbody tr th:only-of-type {\n",
       "        vertical-align: middle;\n",
       "    }\n",
       "\n",
       "    .dataframe tbody tr th {\n",
       "        vertical-align: top;\n",
       "    }\n",
       "\n",
       "    .dataframe thead th {\n",
       "        text-align: right;\n",
       "    }\n",
       "</style>\n",
       "<table border=\"1\" class=\"dataframe\">\n",
       "  <thead>\n",
       "    <tr style=\"text-align: right;\">\n",
       "      <th></th>\n",
       "      <th>Score</th>\n",
       "      <th>Percent Identity</th>\n",
       "      <th>Regulator Name</th>\n",
       "      <th>Paper Regulator Name</th>\n",
       "    </tr>\n",
       "  </thead>\n",
       "  <tbody>\n",
       "    <tr>\n",
       "      <th>0</th>\n",
       "      <td>151.0</td>\n",
       "      <td>0.57</td>\n",
       "      <td>LLPMBPKK_02633</td>\n",
       "      <td>SARP (DBP21_21620)</td>\n",
       "    </tr>\n",
       "    <tr>\n",
       "      <th>1</th>\n",
       "      <td>150.0</td>\n",
       "      <td>0.56</td>\n",
       "      <td>LLPMBPKK_02635</td>\n",
       "      <td>SARP (DBP21_21620)</td>\n",
       "    </tr>\n",
       "    <tr>\n",
       "      <th>2</th>\n",
       "      <td>148.0</td>\n",
       "      <td>0.56</td>\n",
       "      <td>LLPMBPKK_02636</td>\n",
       "      <td>SARP (DBP21_21620)</td>\n",
       "    </tr>\n",
       "    <tr>\n",
       "      <th>3</th>\n",
       "      <td>149.0</td>\n",
       "      <td>0.56</td>\n",
       "      <td>LLPMBPKK_02637</td>\n",
       "      <td>SARP (DBP21_21620)</td>\n",
       "    </tr>\n",
       "    <tr>\n",
       "      <th>4</th>\n",
       "      <td>149.0</td>\n",
       "      <td>0.56</td>\n",
       "      <td>LLPMBPKK_02638</td>\n",
       "      <td>SARP (DBP21_21620)</td>\n",
       "    </tr>\n",
       "    <tr>\n",
       "      <th>5</th>\n",
       "      <td>149.0</td>\n",
       "      <td>0.56</td>\n",
       "      <td>LLPMBPKK_02661</td>\n",
       "      <td>SARP (DBP21_21620)</td>\n",
       "    </tr>\n",
       "    <tr>\n",
       "      <th>6</th>\n",
       "      <td>160.0</td>\n",
       "      <td>0.60</td>\n",
       "      <td>LLPMBPKK_02662</td>\n",
       "      <td>SARP (DBP21_21620)</td>\n",
       "    </tr>\n",
       "    <tr>\n",
       "      <th>7</th>\n",
       "      <td>147.0</td>\n",
       "      <td>0.55</td>\n",
       "      <td>LLPMBPKK_02680</td>\n",
       "      <td>SARP (DBP21_21620)</td>\n",
       "    </tr>\n",
       "    <tr>\n",
       "      <th>8</th>\n",
       "      <td>148.0</td>\n",
       "      <td>0.56</td>\n",
       "      <td>LLPMBPKK_02681</td>\n",
       "      <td>SARP (DBP21_21620)</td>\n",
       "    </tr>\n",
       "  </tbody>\n",
       "</table>\n",
       "</div>"
      ],
      "text/plain": [
       "   Score  Percent Identity  Regulator Name Paper Regulator Name\n",
       "0  151.0              0.57  LLPMBPKK_02633   SARP (DBP21_21620)\n",
       "1  150.0              0.56  LLPMBPKK_02635   SARP (DBP21_21620)\n",
       "2  148.0              0.56  LLPMBPKK_02636   SARP (DBP21_21620)\n",
       "3  149.0              0.56  LLPMBPKK_02637   SARP (DBP21_21620)\n",
       "4  149.0              0.56  LLPMBPKK_02638   SARP (DBP21_21620)\n",
       "5  149.0              0.56  LLPMBPKK_02661   SARP (DBP21_21620)\n",
       "6  160.0              0.60  LLPMBPKK_02662   SARP (DBP21_21620)\n",
       "7  147.0              0.55  LLPMBPKK_02680   SARP (DBP21_21620)\n",
       "8  148.0              0.56  LLPMBPKK_02681   SARP (DBP21_21620)"
      ]
     },
     "execution_count": 42,
     "metadata": {},
     "output_type": "execute_result"
    }
   ],
   "source": [
    "# Initialize an empty list to store each row's data\n",
    "data = []\n",
    "\n",
    "# Iterate through each regulator\n",
    "for reg in bgc14_rgs:\n",
    "    # Perform the alignment and calculate the score\n",
    "    translated_paper_seq = regulator_sequences_from_paper[0].translate()\n",
    "    translated_reg_seq = reg.translate()\n",
    "    score = pairwise2.align.globalxx(translated_paper_seq, translated_reg_seq, score_only=True)\n",
    "    \n",
    "    # Calculate the percent identity\n",
    "    percent_identity = round(score / len(translated_paper_seq),2)\n",
    "    \n",
    "    # Append the results as a dictionary to the data list\n",
    "    data.append({\n",
    "        'Score': score,\n",
    "        'Percent Identity': percent_identity,\n",
    "        'Regulator Name': reg.name,\n",
    "        'Paper Regulator Name': regulator_sequences_from_paper[0].name\n",
    "    })\n",
    "\n",
    "# Create a DataFrame from the collected data\n",
    "df = pd.DataFrame(data)\n",
    "df.to_clipboard()\n",
    "\n",
    "df"
   ]
  },
  {
   "cell_type": "code",
   "execution_count": 43,
   "metadata": {},
   "outputs": [
    {
     "data": {
      "text/html": [
       "<div>\n",
       "<style scoped>\n",
       "    .dataframe tbody tr th:only-of-type {\n",
       "        vertical-align: middle;\n",
       "    }\n",
       "\n",
       "    .dataframe tbody tr th {\n",
       "        vertical-align: top;\n",
       "    }\n",
       "\n",
       "    .dataframe thead th {\n",
       "        text-align: right;\n",
       "    }\n",
       "</style>\n",
       "<table border=\"1\" class=\"dataframe\">\n",
       "  <thead>\n",
       "    <tr style=\"text-align: right;\">\n",
       "      <th></th>\n",
       "      <th>Score</th>\n",
       "      <th>Percent Identity</th>\n",
       "      <th>Regulator Name</th>\n",
       "      <th>Paper Regulator Name</th>\n",
       "    </tr>\n",
       "  </thead>\n",
       "  <tbody>\n",
       "    <tr>\n",
       "      <th>0</th>\n",
       "      <td>152.0</td>\n",
       "      <td>0.47</td>\n",
       "      <td>LLPMBPKK_02633</td>\n",
       "      <td>LysR (DBP21_21625)</td>\n",
       "    </tr>\n",
       "    <tr>\n",
       "      <th>1</th>\n",
       "      <td>146.0</td>\n",
       "      <td>0.45</td>\n",
       "      <td>LLPMBPKK_02635</td>\n",
       "      <td>LysR (DBP21_21625)</td>\n",
       "    </tr>\n",
       "    <tr>\n",
       "      <th>2</th>\n",
       "      <td>150.0</td>\n",
       "      <td>0.46</td>\n",
       "      <td>LLPMBPKK_02636</td>\n",
       "      <td>LysR (DBP21_21625)</td>\n",
       "    </tr>\n",
       "    <tr>\n",
       "      <th>3</th>\n",
       "      <td>153.0</td>\n",
       "      <td>0.47</td>\n",
       "      <td>LLPMBPKK_02637</td>\n",
       "      <td>LysR (DBP21_21625)</td>\n",
       "    </tr>\n",
       "    <tr>\n",
       "      <th>4</th>\n",
       "      <td>148.0</td>\n",
       "      <td>0.46</td>\n",
       "      <td>LLPMBPKK_02638</td>\n",
       "      <td>LysR (DBP21_21625)</td>\n",
       "    </tr>\n",
       "    <tr>\n",
       "      <th>5</th>\n",
       "      <td>170.0</td>\n",
       "      <td>0.52</td>\n",
       "      <td>LLPMBPKK_02661</td>\n",
       "      <td>LysR (DBP21_21625)</td>\n",
       "    </tr>\n",
       "    <tr>\n",
       "      <th>6</th>\n",
       "      <td>153.0</td>\n",
       "      <td>0.47</td>\n",
       "      <td>LLPMBPKK_02662</td>\n",
       "      <td>LysR (DBP21_21625)</td>\n",
       "    </tr>\n",
       "    <tr>\n",
       "      <th>7</th>\n",
       "      <td>149.0</td>\n",
       "      <td>0.46</td>\n",
       "      <td>LLPMBPKK_02680</td>\n",
       "      <td>LysR (DBP21_21625)</td>\n",
       "    </tr>\n",
       "    <tr>\n",
       "      <th>8</th>\n",
       "      <td>151.0</td>\n",
       "      <td>0.46</td>\n",
       "      <td>LLPMBPKK_02681</td>\n",
       "      <td>LysR (DBP21_21625)</td>\n",
       "    </tr>\n",
       "  </tbody>\n",
       "</table>\n",
       "</div>"
      ],
      "text/plain": [
       "   Score  Percent Identity  Regulator Name Paper Regulator Name\n",
       "0  152.0              0.47  LLPMBPKK_02633   LysR (DBP21_21625)\n",
       "1  146.0              0.45  LLPMBPKK_02635   LysR (DBP21_21625)\n",
       "2  150.0              0.46  LLPMBPKK_02636   LysR (DBP21_21625)\n",
       "3  153.0              0.47  LLPMBPKK_02637   LysR (DBP21_21625)\n",
       "4  148.0              0.46  LLPMBPKK_02638   LysR (DBP21_21625)\n",
       "5  170.0              0.52  LLPMBPKK_02661   LysR (DBP21_21625)\n",
       "6  153.0              0.47  LLPMBPKK_02662   LysR (DBP21_21625)\n",
       "7  149.0              0.46  LLPMBPKK_02680   LysR (DBP21_21625)\n",
       "8  151.0              0.46  LLPMBPKK_02681   LysR (DBP21_21625)"
      ]
     },
     "execution_count": 43,
     "metadata": {},
     "output_type": "execute_result"
    }
   ],
   "source": [
    "# Initialize an empty list to store each row's data\n",
    "data = []\n",
    "\n",
    "# Iterate through each regulator\n",
    "for reg in bgc14_rgs:\n",
    "    # Perform the alignment and calculate the score\n",
    "    translated_paper_seq = regulator_sequences_from_paper[1].translate()\n",
    "    translated_reg_seq = reg.translate()\n",
    "    score = pairwise2.align.globalxx(translated_paper_seq, translated_reg_seq, score_only=True)\n",
    "    \n",
    "    # Calculate the percent identity\n",
    "    percent_identity = round(score / len(translated_paper_seq), 2)     \n",
    "    # Append the results as a dictionary to the data list\n",
    "    data.append({\n",
    "        'Score': score,\n",
    "        'Percent Identity': percent_identity,\n",
    "        'Regulator Name': reg.name,\n",
    "        'Paper Regulator Name': regulator_sequences_from_paper[1].name\n",
    "    })\n",
    "\n",
    "# Create a DataFrame from the collected data\n",
    "df = pd.DataFrame(data)\n",
    "df.to_clipboard()\n",
    "df"
   ]
  },
  {
   "cell_type": "code",
   "execution_count": 44,
   "metadata": {},
   "outputs": [
    {
     "data": {
      "text/plain": [
       "[SeqRecord(seq=Seq('VEINILGALSLTCGQRSAEVASKRVSTVLTLLALSPGTPIPFDQLVDELWADQP...AS*'), id='SARP (DBP21_21620)', name='<unknown name>', description='', dbxrefs=[]),\n",
       " SeqRecord(seq=Seq('MAHLDIGLLGPFTACIDGASIVPTAAKQRRLLALLAIDTGHEVSMASIAEGLWE...PL*'), id='LLPMBPKK_02633', name='<unknown name>', description='', dbxrefs=[]),\n",
       " SeqRecord(seq=Seq('VIRILLAEDMNMVRGALVALLSLENDFEVVSELERGDEILDAALKAKPDIAVID...LV*'), id='LLPMBPKK_02635', name='<unknown name>', description='', dbxrefs=[]),\n",
       " SeqRecord(seq=Seq('MCRHKSSPKATEGSGQPDALLVRSGNLPAPRLGRLVLLAALLCYFSITLLNILS...AA*'), id='LLPMBPKK_02636', name='<unknown name>', description='', dbxrefs=[]),\n",
       " SeqRecord(seq=Seq('MTDTDNDRIRVVVVDDHAVMRAGVVALLTGEPTIEIVGEASDGREGVDLVRRLA...RS*'), id='LLPMBPKK_02637', name='<unknown name>', description='', dbxrefs=[]),\n",
       " SeqRecord(seq=Seq('VSQWQQQPSDRLTLDRIRRWNLAGWILLGLLPTAVAVADRSPARKFWLLGLLAL...QG*'), id='LLPMBPKK_02638', name='<unknown name>', description='', dbxrefs=[]),\n",
       " SeqRecord(seq=Seq('MDIELRHARIVVTISEAGSISRGANELSLPQPSLTAQLRRIERALGGELFERSR...AS*'), id='LLPMBPKK_02661', name='<unknown name>', description='', dbxrefs=[]),\n",
       " SeqRecord(seq=Seq('MDIQVLGSVSVRYGNRQHAVGSKRLTAILALLALSPGRTIPADQLEDELWAGRT...HR*'), id='LLPMBPKK_02662', name='<unknown name>', description='', dbxrefs=[]),\n",
       " SeqRecord(seq=Seq('MGEQASWTRTRLGRCGPPLDLLTASFRRHVYAPHAHDEYTIGVCVGGSEIIDYR...AA*'), id='LLPMBPKK_02680', name='<unknown name>', description='', dbxrefs=[]),\n",
       " SeqRecord(seq=Seq('MRIGELAAAVGVTTRTVRHYHHLGLLPEPERLSNGYREYTLRHAVVLARIRRLT...GT*'), id='LLPMBPKK_02681', name='<unknown name>', description='', dbxrefs=[])]"
      ]
     },
     "execution_count": 44,
     "metadata": {},
     "output_type": "execute_result"
    }
   ],
   "source": [
    "bgc14_rgs_sarp = [\n",
    "    SeqRecord(seq=reg.seq.translate(), id=reg.name, description=\"\")\n",
    "    for reg in [regulator_sequences_from_paper[0]] + bgc14_rgs\n",
    "]\n",
    "bgc14_rgs_sarp"
   ]
  },
  {
   "cell_type": "code",
   "execution_count": 45,
   "metadata": {},
   "outputs": [
    {
     "data": {
      "text/plain": [
       "[SeqRecord(seq=Seq('MDLELRHARIVLTIDACGSISRAAVRLNLPQPSLTAQLRRIEKSVGGDLFIRSR...RP*'), id='LysR (DBP21_21625)', name='<unknown name>', description='', dbxrefs=[]),\n",
       " SeqRecord(seq=Seq('MAHLDIGLLGPFTACIDGASIVPTAAKQRRLLALLAIDTGHEVSMASIAEGLWE...PL*'), id='LLPMBPKK_02633', name='<unknown name>', description='', dbxrefs=[]),\n",
       " SeqRecord(seq=Seq('VIRILLAEDMNMVRGALVALLSLENDFEVVSELERGDEILDAALKAKPDIAVID...LV*'), id='LLPMBPKK_02635', name='<unknown name>', description='', dbxrefs=[]),\n",
       " SeqRecord(seq=Seq('MCRHKSSPKATEGSGQPDALLVRSGNLPAPRLGRLVLLAALLCYFSITLLNILS...AA*'), id='LLPMBPKK_02636', name='<unknown name>', description='', dbxrefs=[]),\n",
       " SeqRecord(seq=Seq('MTDTDNDRIRVVVVDDHAVMRAGVVALLTGEPTIEIVGEASDGREGVDLVRRLA...RS*'), id='LLPMBPKK_02637', name='<unknown name>', description='', dbxrefs=[]),\n",
       " SeqRecord(seq=Seq('VSQWQQQPSDRLTLDRIRRWNLAGWILLGLLPTAVAVADRSPARKFWLLGLLAL...QG*'), id='LLPMBPKK_02638', name='<unknown name>', description='', dbxrefs=[]),\n",
       " SeqRecord(seq=Seq('MDIELRHARIVVTISEAGSISRGANELSLPQPSLTAQLRRIERALGGELFERSR...AS*'), id='LLPMBPKK_02661', name='<unknown name>', description='', dbxrefs=[]),\n",
       " SeqRecord(seq=Seq('MDIQVLGSVSVRYGNRQHAVGSKRLTAILALLALSPGRTIPADQLEDELWAGRT...HR*'), id='LLPMBPKK_02662', name='<unknown name>', description='', dbxrefs=[]),\n",
       " SeqRecord(seq=Seq('MGEQASWTRTRLGRCGPPLDLLTASFRRHVYAPHAHDEYTIGVCVGGSEIIDYR...AA*'), id='LLPMBPKK_02680', name='<unknown name>', description='', dbxrefs=[]),\n",
       " SeqRecord(seq=Seq('MRIGELAAAVGVTTRTVRHYHHLGLLPEPERLSNGYREYTLRHAVVLARIRRLT...GT*'), id='LLPMBPKK_02681', name='<unknown name>', description='', dbxrefs=[])]"
      ]
     },
     "execution_count": 45,
     "metadata": {},
     "output_type": "execute_result"
    }
   ],
   "source": [
    "bgc14_rgs_lysR = [\n",
    "    SeqRecord(seq=reg.seq.translate(), id=reg.name, description=\"\")\n",
    "    for reg in [regulator_sequences_from_paper[1]] + bgc14_rgs\n",
    "]\n",
    "\n",
    "bgc14_rgs_lysR"
   ]
  },
  {
   "cell_type": "code",
   "execution_count": 46,
   "metadata": {},
   "outputs": [],
   "source": [
    "from Bio import SeqIO\n",
    "from Bio.Seq import Seq\n",
    "from Bio.SeqRecord import SeqRecord\n",
    "from io import StringIO\n",
    "# Write records to a FASTA file\n",
    "# with open(\"regulators_region14_SARP.fasta\", \"w\") as output_handle:\n",
    "#     SeqIO.write(bgc14_rgs_sarp, output_handle, \"fasta\")\n",
    "\n",
    "\n",
    "# with open(\"regulators_region14_LysR.fasta\", \"w\") as output_handle:\n",
    "#     SeqIO.write(bgc14_rgs_lysR, output_handle, \"fasta\")\n",
    "    "
   ]
  },
  {
   "cell_type": "code",
   "execution_count": null,
   "metadata": {},
   "outputs": [],
   "source": []
  }
 ],
 "metadata": {
  "kernelspec": {
   "display_name": "constrain",
   "language": "python",
   "name": "python3"
  },
  "language_info": {
   "codemirror_mode": {
    "name": "ipython",
    "version": 3
   },
   "file_extension": ".py",
   "mimetype": "text/x-python",
   "name": "python",
   "nbconvert_exporter": "python",
   "pygments_lexer": "ipython3",
   "version": "3.11.9"
  }
 },
 "nbformat": 4,
 "nbformat_minor": 2
}
