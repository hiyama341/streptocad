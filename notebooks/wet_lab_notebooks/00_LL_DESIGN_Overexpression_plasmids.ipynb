{
 "cells": [
  {
   "cell_type": "markdown",
   "metadata": {},
   "source": [
    "# 00-parsing_antiSMASH\n",
    "\n",
    "\n",
    "\n",
    "### Overview"
   ]
  },
  {
   "cell_type": "markdown",
   "metadata": {},
   "source": [
    "Content: \n",
    "1. Read in antismash output\n",
    "2. retreive Regulators seqs from differet families e.g. all LuxR tfs"
   ]
  },
  {
   "cell_type": "code",
   "execution_count": 1,
   "metadata": {},
   "outputs": [],
   "source": [
    "\n",
    "import sys\n",
    "import os\n",
    "def list_of_objects_in_a_dir(dir_path:str): \n",
    "    \"\"\"List all objects in a directory.\n",
    "    \n",
    "    Parameters\n",
    "    ----------\n",
    "    dir_path : str\n",
    "        The path to the directory.\n",
    "        \n",
    "    Returns\n",
    "    -------\n",
    "    list\n",
    "        A list of the objects in the directory.\n",
    "    \"\"\"\n",
    "    # list to store files\n",
    "    list_of_files = []\n",
    "\n",
    "    # Iterate directory\n",
    "    for path in os.listdir(dir_path):\n",
    "        # check if current path is a file\n",
    "        if os.path.isfile(os.path.join(dir_path, path)):\n",
    "            list_of_files.append(path)\n",
    "            \n",
    "    return list_of_files\n"
   ]
  },
  {
   "cell_type": "code",
   "execution_count": 2,
   "metadata": {},
   "outputs": [],
   "source": [
    "from teemi.design.fetch_sequences import read_genbank_files\n",
    "import pandas as pd"
   ]
  },
  {
   "cell_type": "code",
   "execution_count": 3,
   "metadata": {},
   "outputs": [],
   "source": [
    "go4010 = read_genbank_files('../wet_lab_notebooks/data_for_drylab/Go40110_flye_polish_actinoannotPFAM_antismash7/Go40110_flye_polish_actinoannotPFAM.gbk')[0]"
   ]
  },
  {
   "cell_type": "code",
   "execution_count": 4,
   "metadata": {},
   "outputs": [
    {
     "data": {
      "text/plain": [
       "'Lenght of the genome 9,637,008 bp'"
      ]
     },
     "execution_count": 4,
     "metadata": {},
     "output_type": "execute_result"
    }
   ],
   "source": [
    "f'Lenght of the genome {len(go4010):,} bp'"
   ]
  },
  {
   "cell_type": "code",
   "execution_count": 5,
   "metadata": {},
   "outputs": [
    {
     "data": {
      "text/plain": [
       "SeqRecord(seq=Seq('CAGCTCCGGCACGGAAAGAGGCTGGTCTGGTTTTGTGGGGTGGGGGCTGGGGTT...AGG'), id='.', name='Exported', description='Streptomyces reticuli_0.928 strain strain', dbxrefs=[])"
      ]
     },
     "execution_count": 5,
     "metadata": {},
     "output_type": "execute_result"
    }
   ],
   "source": [
    "go4010"
   ]
  },
  {
   "cell_type": "markdown",
   "metadata": {},
   "source": [
    "How many clusters"
   ]
  },
  {
   "cell_type": "code",
   "execution_count": 6,
   "metadata": {},
   "outputs": [
    {
     "name": "stdout",
     "output_type": "stream",
     "text": [
      "Total coding sequences :  8154\n"
     ]
    }
   ],
   "source": [
    "# How many genes do we have?\n",
    "locus_tags = []\n",
    "qualifiers = []\n",
    "cds = []\n",
    "\n",
    "for feature in go4010.features:\n",
    "    if feature.type == 'CDS': \n",
    "        # getting the locus tag if we see cds\n",
    "        locus_tags.append(feature.qualifiers['locus_tag'][0])\n",
    "        qualifiers.append(feature.qualifiers)\n",
    "\n",
    "        # All CDS features\n",
    "        cds.append(feature)\n",
    "\n",
    "        \n",
    "print('Total coding sequences : ', len(locus_tags))    "
   ]
  },
  {
   "cell_type": "code",
   "execution_count": 7,
   "metadata": {},
   "outputs": [
    {
     "data": {
      "text/plain": [
       "[SeqFeature(SimpleLocation(ExactPosition(202), ExactPosition(1000), strand=1), type='CDS', qualifiers=...),\n",
       " SeqFeature(SimpleLocation(ExactPosition(3087), ExactPosition(3231), strand=1), type='CDS', qualifiers=...),\n",
       " SeqFeature(SimpleLocation(ExactPosition(6166), ExactPosition(7426), strand=1), type='CDS', qualifiers=...),\n",
       " SeqFeature(SimpleLocation(ExactPosition(9178), ExactPosition(9358), strand=1), type='CDS', qualifiers=...),\n",
       " SeqFeature(SimpleLocation(ExactPosition(9504), ExactPosition(9690), strand=1), type='CDS', qualifiers=...),\n",
       " SeqFeature(SimpleLocation(ExactPosition(14019), ExactPosition(14781), strand=1), type='CDS', qualifiers=...),\n",
       " SeqFeature(SimpleLocation(ExactPosition(15280), ExactPosition(15472), strand=-1), type='CDS', qualifiers=...),\n",
       " SeqFeature(SimpleLocation(ExactPosition(16206), ExactPosition(16326), strand=-1), type='CDS', qualifiers=...),\n",
       " SeqFeature(SimpleLocation(ExactPosition(16859), ExactPosition(17699), strand=-1), type='CDS', qualifiers=...),\n",
       " SeqFeature(SimpleLocation(ExactPosition(18001), ExactPosition(19465), strand=1), type='CDS', qualifiers=...)]"
      ]
     },
     "execution_count": 7,
     "metadata": {},
     "output_type": "execute_result"
    }
   ],
   "source": [
    "cds[:10]"
   ]
  },
  {
   "cell_type": "markdown",
   "metadata": {},
   "source": [
    "Lets retrieve the locus_tag for all transcriptional regualtors"
   ]
  },
  {
   "cell_type": "code",
   "execution_count": 8,
   "metadata": {},
   "outputs": [
    {
     "name": "stdout",
     "output_type": "stream",
     "text": [
      "regulatory (smcogs) SMCOG1016:LuxR family DNA-binding response regulator (Score: 187.1; E-value: 4.1e-57)\n",
      "regulatory (smcogs) SMCOG1149:LuxR family transcriptional regulator (Score: 972.3; E-value: 4.8e-294)\n",
      "regulatory (smcogs) SMCOG1016:LuxR family DNA-binding response regulator (Score: 166.8; E-value: 6.4e-51)\n",
      "regulatory (smcogs) SMCOG1041:transcriptional regulator, SARP family (Score: 314.4; E-value: 3.3e-95)\n",
      "regulatory (smcogs) SMCOG1041:transcriptional regulator, SARP family (Score: 259.2; E-value: 1.5e-78)\n",
      "regulatory (smcogs) SMCOG1016:LuxR family DNA-binding response regulator (Score: 66; E-value: 4.5e-20)\n",
      "regulatory (smcogs) SMCOG1016:LuxR family DNA-binding response regulator (Score: 143.4; E-value: 9.7e-44)\n",
      "regulatory (smcogs) SMCOG1041:transcriptional regulator, SARP family (Score: 266.8; E-value: 7.8e-81)\n",
      "regulatory (smcogs) SMCOG1016:LuxR family DNA-binding response regulator (Score: 151.1; E-value: 4.3e-46)\n",
      "regulatory (smcogs) SMCOG1016:LuxR family DNA-binding response regulator (Score: 175.3; E-value: 1.7e-53)\n",
      "regulatory (smcogs) SMCOG1041:transcriptional regulator, SARP family (Score: 252.9; E-value: 1.2e-76)\n",
      "regulatory (smcogs) SMCOG1016:LuxR family DNA-binding response regulator (Score: 84.7; E-value: 8.6e-26)\n",
      "regulatory (smcogs) SMCOG1041:transcriptional regulator, SARP family (Score: 511.2; E-value: 9.9e-155)\n",
      "regulatory (smcogs) SMCOG1041:transcriptional regulator, SARP family (Score: 476.5; E-value: 3.1e-144)\n",
      "regulatory (smcogs) SMCOG1149:LuxR family transcriptional regulator (Score: 62.2; E-value: 4.9e-19)\n",
      "regulatory (smcogs) SMCOG1149:LuxR family transcriptional regulator (Score: 158; E-value: 5.7e-48)\n",
      "regulatory (smcogs) SMCOG1149:LuxR family transcriptional regulator (Score: 117.2; E-value: 1.2e-35)\n",
      "regulatory (smcogs) SMCOG1041:transcriptional regulator, SARP family (Score: 358.4; E-value: 1.5e-108)\n"
     ]
    },
    {
     "data": {
      "text/plain": [
       "18"
      ]
     },
     "execution_count": 8,
     "metadata": {},
     "output_type": "execute_result"
    }
   ],
   "source": [
    "regulators = []\n",
    "regulator_descriptions = []\n",
    "for qualifier in qualifiers: \n",
    "    if 'gene_kind' in qualifier:\n",
    "        if 'regulatory' in qualifier['gene_functions'][0]:\n",
    "            #print(qualifier['gene_functions'])\n",
    "            if 'LuxR' in qualifier['gene_functions'][0] or 'SARP' in qualifier['gene_functions'][0]: \n",
    "                print(qualifier['gene_functions'][0])\n",
    "                regulator_descriptions.append(qualifier['gene_functions'][0][30:])\n",
    "                regulators.append(qualifier)\n",
    "                \n",
    "len(regulators)"
   ]
  },
  {
   "cell_type": "code",
   "execution_count": 9,
   "metadata": {},
   "outputs": [
    {
     "data": {
      "text/plain": [
       "['LuxR family DNA-binding response regulator (Score: 187.1; E-value: 4.1e-57)',\n",
       " 'LuxR family transcriptional regulator (Score: 972.3; E-value: 4.8e-294)',\n",
       " 'LuxR family DNA-binding response regulator (Score: 166.8; E-value: 6.4e-51)',\n",
       " 'transcriptional regulator, SARP family (Score: 314.4; E-value: 3.3e-95)',\n",
       " 'transcriptional regulator, SARP family (Score: 259.2; E-value: 1.5e-78)',\n",
       " 'LuxR family DNA-binding response regulator (Score: 66; E-value: 4.5e-20)',\n",
       " 'LuxR family DNA-binding response regulator (Score: 143.4; E-value: 9.7e-44)',\n",
       " 'transcriptional regulator, SARP family (Score: 266.8; E-value: 7.8e-81)',\n",
       " 'LuxR family DNA-binding response regulator (Score: 151.1; E-value: 4.3e-46)',\n",
       " 'LuxR family DNA-binding response regulator (Score: 175.3; E-value: 1.7e-53)',\n",
       " 'transcriptional regulator, SARP family (Score: 252.9; E-value: 1.2e-76)',\n",
       " 'LuxR family DNA-binding response regulator (Score: 84.7; E-value: 8.6e-26)',\n",
       " 'transcriptional regulator, SARP family (Score: 511.2; E-value: 9.9e-155)',\n",
       " 'transcriptional regulator, SARP family (Score: 476.5; E-value: 3.1e-144)',\n",
       " 'LuxR family transcriptional regulator (Score: 62.2; E-value: 4.9e-19)',\n",
       " 'LuxR family transcriptional regulator (Score: 158; E-value: 5.7e-48)',\n",
       " 'LuxR family transcriptional regulator (Score: 117.2; E-value: 1.2e-35)',\n",
       " 'transcriptional regulator, SARP family (Score: 358.4; E-value: 1.5e-108)']"
      ]
     },
     "execution_count": 9,
     "metadata": {},
     "output_type": "execute_result"
    }
   ],
   "source": [
    "regulator_descriptions"
   ]
  },
  {
   "cell_type": "code",
   "execution_count": 10,
   "metadata": {},
   "outputs": [],
   "source": [
    "locus_tags_to_search_for = []\n",
    "for qualifier in regulators: \n",
    "    locus_tags_to_search_for.append(qualifier['locus_tag'][0])"
   ]
  },
  {
   "cell_type": "code",
   "execution_count": 11,
   "metadata": {},
   "outputs": [
    {
     "name": "stdout",
     "output_type": "stream",
     "text": [
      "Total sequences within these two regulator families: 18\n"
     ]
    },
    {
     "data": {
      "text/plain": [
       "['LLPMBPKK_00292',\n",
       " 'LLPMBPKK_00328',\n",
       " 'LLPMBPKK_00586',\n",
       " 'LLPMBPKK_01488',\n",
       " 'LLPMBPKK_02197',\n",
       " 'LLPMBPKK_02209',\n",
       " 'LLPMBPKK_02563',\n",
       " 'LLPMBPKK_02633',\n",
       " 'LLPMBPKK_02635',\n",
       " 'LLPMBPKK_02637',\n",
       " 'LLPMBPKK_02662',\n",
       " 'LLPMBPKK_05992',\n",
       " 'LLPMBPKK_06337',\n",
       " 'LLPMBPKK_06422',\n",
       " 'LLPMBPKK_06907',\n",
       " 'LLPMBPKK_07531',\n",
       " 'LLPMBPKK_07744',\n",
       " 'LLPMBPKK_07949']"
      ]
     },
     "execution_count": 11,
     "metadata": {},
     "output_type": "execute_result"
    }
   ],
   "source": [
    "print(f'Total sequences within these two regulator families: {len(locus_tags_to_search_for)}')\n",
    "locus_tags_to_search_for"
   ]
  },
  {
   "cell_type": "markdown",
   "metadata": {},
   "source": [
    "### Manual curation: \n",
    "-  LuxR 11\n",
    "- manual SARP 8"
   ]
  },
  {
   "cell_type": "markdown",
   "metadata": {},
   "source": [
    "### In which gene clusters are they found?"
   ]
  },
  {
   "cell_type": "code",
   "execution_count": 12,
   "metadata": {},
   "outputs": [],
   "source": [
    "\n",
    "regions_names = list_of_objects_in_a_dir('../wet_lab_notebooks/data_for_drylab/Go40110_flye_polish_actinoannotPFAM_antismash7/')\n",
    "\n",
    "genbank_regions = []\n",
    "for gb in regions_names: \n",
    "    if gb.endswith('.gbk') and gb.startswith('..'): \n",
    "        genbank_regions.append(gb)\n",
    "\n",
    "genbank_regions_sorted = sorted(genbank_regions)\n",
    "\n"
   ]
  },
  {
   "cell_type": "code",
   "execution_count": 13,
   "metadata": {},
   "outputs": [],
   "source": [
    "# lets parse: \n",
    "all_genbanks = []\n",
    "for region in genbank_regions_sorted: \n",
    "    all_genbanks.append( read_genbank_files(f'../wet_lab_notebooks/data_for_drylab/Go40110_flye_polish_actinoannotPFAM_antismash7/{region}')[0])"
   ]
  },
  {
   "cell_type": "code",
   "execution_count": 14,
   "metadata": {},
   "outputs": [
    {
     "data": {
      "text/html": [
       "<div>\n",
       "<style scoped>\n",
       "    .dataframe tbody tr th:only-of-type {\n",
       "        vertical-align: middle;\n",
       "    }\n",
       "\n",
       "    .dataframe tbody tr th {\n",
       "        vertical-align: top;\n",
       "    }\n",
       "\n",
       "    .dataframe thead th {\n",
       "        text-align: right;\n",
       "    }\n",
       "</style>\n",
       "<table border=\"1\" class=\"dataframe\">\n",
       "  <thead>\n",
       "    <tr style=\"text-align: right;\">\n",
       "      <th></th>\n",
       "      <th>locus_tag</th>\n",
       "      <th>region</th>\n",
       "      <th>regulator_number</th>\n",
       "      <th>description</th>\n",
       "    </tr>\n",
       "  </thead>\n",
       "  <tbody>\n",
       "    <tr>\n",
       "      <th>0</th>\n",
       "      <td>LLPMBPKK_00292</td>\n",
       "      <td>region 1</td>\n",
       "      <td>Reg 1</td>\n",
       "      <td>LuxR family DNA-binding response regulator (Sc...</td>\n",
       "    </tr>\n",
       "    <tr>\n",
       "      <th>1</th>\n",
       "      <td>LLPMBPKK_00328</td>\n",
       "      <td>region 1</td>\n",
       "      <td>Reg 2</td>\n",
       "      <td>LuxR family transcriptional regulator (Score: ...</td>\n",
       "    </tr>\n",
       "    <tr>\n",
       "      <th>2</th>\n",
       "      <td>LLPMBPKK_00586</td>\n",
       "      <td>region 4</td>\n",
       "      <td>Reg 3</td>\n",
       "      <td>LuxR family DNA-binding response regulator (Sc...</td>\n",
       "    </tr>\n",
       "    <tr>\n",
       "      <th>3</th>\n",
       "      <td>LLPMBPKK_01488</td>\n",
       "      <td>region 10</td>\n",
       "      <td>Reg 4</td>\n",
       "      <td>transcriptional regulator, SARP family (Score:...</td>\n",
       "    </tr>\n",
       "    <tr>\n",
       "      <th>4</th>\n",
       "      <td>LLPMBPKK_02197</td>\n",
       "      <td>region 12</td>\n",
       "      <td>Reg 5</td>\n",
       "      <td>transcriptional regulator, SARP family (Score:...</td>\n",
       "    </tr>\n",
       "    <tr>\n",
       "      <th>5</th>\n",
       "      <td>LLPMBPKK_02209</td>\n",
       "      <td>region 12</td>\n",
       "      <td>Reg 6</td>\n",
       "      <td>LuxR family DNA-binding response regulator (Sc...</td>\n",
       "    </tr>\n",
       "    <tr>\n",
       "      <th>6</th>\n",
       "      <td>LLPMBPKK_02563</td>\n",
       "      <td>region 13</td>\n",
       "      <td>Reg 7</td>\n",
       "      <td>LuxR family DNA-binding response regulator (Sc...</td>\n",
       "    </tr>\n",
       "    <tr>\n",
       "      <th>7</th>\n",
       "      <td>LLPMBPKK_02633</td>\n",
       "      <td>region 14</td>\n",
       "      <td>Reg 8</td>\n",
       "      <td>transcriptional regulator, SARP family (Score:...</td>\n",
       "    </tr>\n",
       "    <tr>\n",
       "      <th>8</th>\n",
       "      <td>LLPMBPKK_02635</td>\n",
       "      <td>region 14</td>\n",
       "      <td>Reg 9</td>\n",
       "      <td>LuxR family DNA-binding response regulator (Sc...</td>\n",
       "    </tr>\n",
       "    <tr>\n",
       "      <th>9</th>\n",
       "      <td>LLPMBPKK_02637</td>\n",
       "      <td>region 14</td>\n",
       "      <td>Reg 10</td>\n",
       "      <td>LuxR family DNA-binding response regulator (Sc...</td>\n",
       "    </tr>\n",
       "    <tr>\n",
       "      <th>10</th>\n",
       "      <td>LLPMBPKK_02662</td>\n",
       "      <td>region 14</td>\n",
       "      <td>Reg 11</td>\n",
       "      <td>transcriptional regulator, SARP family (Score:...</td>\n",
       "    </tr>\n",
       "    <tr>\n",
       "      <th>11</th>\n",
       "      <td>LLPMBPKK_05992</td>\n",
       "      <td>region 22</td>\n",
       "      <td>Reg 12</td>\n",
       "      <td>LuxR family DNA-binding response regulator (Sc...</td>\n",
       "    </tr>\n",
       "    <tr>\n",
       "      <th>12</th>\n",
       "      <td>LLPMBPKK_06337</td>\n",
       "      <td>region 27</td>\n",
       "      <td>Reg 13</td>\n",
       "      <td>transcriptional regulator, SARP family (Score:...</td>\n",
       "    </tr>\n",
       "    <tr>\n",
       "      <th>13</th>\n",
       "      <td>LLPMBPKK_06422</td>\n",
       "      <td>region 28</td>\n",
       "      <td>Reg 14</td>\n",
       "      <td>transcriptional regulator, SARP family (Score:...</td>\n",
       "    </tr>\n",
       "    <tr>\n",
       "      <th>14</th>\n",
       "      <td>LLPMBPKK_06907</td>\n",
       "      <td>region 30</td>\n",
       "      <td>Reg 15</td>\n",
       "      <td>LuxR family transcriptional regulator (Score: ...</td>\n",
       "    </tr>\n",
       "    <tr>\n",
       "      <th>15</th>\n",
       "      <td>LLPMBPKK_07531</td>\n",
       "      <td>region 33</td>\n",
       "      <td>Reg 16</td>\n",
       "      <td>LuxR family transcriptional regulator (Score: ...</td>\n",
       "    </tr>\n",
       "    <tr>\n",
       "      <th>16</th>\n",
       "      <td>LLPMBPKK_07744</td>\n",
       "      <td>region 36</td>\n",
       "      <td>Reg 17</td>\n",
       "      <td>LuxR family transcriptional regulator (Score: ...</td>\n",
       "    </tr>\n",
       "    <tr>\n",
       "      <th>17</th>\n",
       "      <td>LLPMBPKK_07949</td>\n",
       "      <td>region 38</td>\n",
       "      <td>Reg 18</td>\n",
       "      <td>transcriptional regulator, SARP family (Score:...</td>\n",
       "    </tr>\n",
       "  </tbody>\n",
       "</table>\n",
       "</div>"
      ],
      "text/plain": [
       "         locus_tag     region regulator_number  \\\n",
       "0   LLPMBPKK_00292   region 1            Reg 1   \n",
       "1   LLPMBPKK_00328   region 1            Reg 2   \n",
       "2   LLPMBPKK_00586   region 4            Reg 3   \n",
       "3   LLPMBPKK_01488  region 10            Reg 4   \n",
       "4   LLPMBPKK_02197  region 12            Reg 5   \n",
       "5   LLPMBPKK_02209  region 12            Reg 6   \n",
       "6   LLPMBPKK_02563  region 13            Reg 7   \n",
       "7   LLPMBPKK_02633  region 14            Reg 8   \n",
       "8   LLPMBPKK_02635  region 14            Reg 9   \n",
       "9   LLPMBPKK_02637  region 14           Reg 10   \n",
       "10  LLPMBPKK_02662  region 14           Reg 11   \n",
       "11  LLPMBPKK_05992  region 22           Reg 12   \n",
       "12  LLPMBPKK_06337  region 27           Reg 13   \n",
       "13  LLPMBPKK_06422  region 28           Reg 14   \n",
       "14  LLPMBPKK_06907  region 30           Reg 15   \n",
       "15  LLPMBPKK_07531  region 33           Reg 16   \n",
       "16  LLPMBPKK_07744  region 36           Reg 17   \n",
       "17  LLPMBPKK_07949  region 38           Reg 18   \n",
       "\n",
       "                                          description  \n",
       "0   LuxR family DNA-binding response regulator (Sc...  \n",
       "1   LuxR family transcriptional regulator (Score: ...  \n",
       "2   LuxR family DNA-binding response regulator (Sc...  \n",
       "3   transcriptional regulator, SARP family (Score:...  \n",
       "4   transcriptional regulator, SARP family (Score:...  \n",
       "5   LuxR family DNA-binding response regulator (Sc...  \n",
       "6   LuxR family DNA-binding response regulator (Sc...  \n",
       "7   transcriptional regulator, SARP family (Score:...  \n",
       "8   LuxR family DNA-binding response regulator (Sc...  \n",
       "9   LuxR family DNA-binding response regulator (Sc...  \n",
       "10  transcriptional regulator, SARP family (Score:...  \n",
       "11  LuxR family DNA-binding response regulator (Sc...  \n",
       "12  transcriptional regulator, SARP family (Score:...  \n",
       "13  transcriptional regulator, SARP family (Score:...  \n",
       "14  LuxR family transcriptional regulator (Score: ...  \n",
       "15  LuxR family transcriptional regulator (Score: ...  \n",
       "16  LuxR family transcriptional regulator (Score: ...  \n",
       "17  transcriptional regulator, SARP family (Score:...  "
      ]
     },
     "execution_count": 14,
     "metadata": {},
     "output_type": "execute_result"
    }
   ],
   "source": [
    "regions_for_each_locus_tag = []\n",
    "for lc_tag in locus_tags_to_search_for: \n",
    "    for i in range(len(all_genbanks)): \n",
    "       for feature in all_genbanks[i].features:\n",
    "            if feature.type == \"CDS\":\n",
    "                if feature.qualifiers['locus_tag'][0] == lc_tag: \n",
    "                    # getting the locus tag if we see cds\n",
    "                    locus_tag_and_region = {'locus_tag':lc_tag, 'region': f'region {i+1}'}\n",
    "                    regions_for_each_locus_tag.append(locus_tag_and_region)\n",
    "regions_df = pd.DataFrame(regions_for_each_locus_tag, columns =['locus_tag', 'region'])\n",
    "regions_df['regulator_number'] = [f'Reg {i+1}' for i in range(len(regions_df))]\n",
    "\n",
    "regions_df['description'] = regulator_descriptions\n",
    "regions_df"
   ]
  },
  {
   "cell_type": "markdown",
   "metadata": {},
   "source": [
    "Manually, we have inspected the clusters and we are interested in the products from  14, 28, 38"
   ]
  },
  {
   "cell_type": "markdown",
   "metadata": {},
   "source": [
    "### All regulators"
   ]
  },
  {
   "cell_type": "code",
   "execution_count": 15,
   "metadata": {},
   "outputs": [
    {
     "name": "stdout",
     "output_type": "stream",
     "text": [
      "Total transcriptional regulators : 531\n"
     ]
    },
    {
     "data": {
      "text/plain": [
       "[[['LLPMBPKK_00020'], ['XRE family transcriptional regulator']],\n",
       " [['LLPMBPKK_00064'], ['XRE family transcriptional regulator']],\n",
       " [['LLPMBPKK_00191'], ['LacI family transcriptional regulator']],\n",
       " [['LLPMBPKK_00217'], ['MerR family transcriptional regulator']],\n",
       " [['LLPMBPKK_00244'], ['HxlR family transcriptional regulator']],\n",
       " [['LLPMBPKK_00260'], ['LacI family transcriptional regulator']],\n",
       " [['LLPMBPKK_00283'], ['TetR family transcriptional regulator']],\n",
       " [['LLPMBPKK_00293'], ['MarR family transcriptional regulator']],\n",
       " [['LLPMBPKK_00328'], ['LuxR family transcriptional regulator']],\n",
       " [['LLPMBPKK_00353'], ['LysR family transcriptional regulator']]]"
      ]
     },
     "execution_count": 15,
     "metadata": {},
     "output_type": "execute_result"
    }
   ],
   "source": [
    "## If we just look at all regulators\n",
    "transcriptional_regulators = []\n",
    "for qualifier in qualifiers: \n",
    "    if 'product' in qualifier: \n",
    "        if 'transcriptional regulator' in  qualifier['product'][0]: \n",
    "            tf = [qualifier['locus_tag'],qualifier['product']]\n",
    "            transcriptional_regulators.append(tf)\n",
    "print(f'Total transcriptional regulators : {len(transcriptional_regulators)}')\n",
    "transcriptional_regulators[:10]"
   ]
  },
  {
   "cell_type": "markdown",
   "metadata": {},
   "source": [
    "Lets get the sequences: "
   ]
  },
  {
   "cell_type": "code",
   "execution_count": 16,
   "metadata": {},
   "outputs": [],
   "source": [
    "from Bio.SeqRecord import SeqRecord\n",
    "from Bio.SeqFeature import SeqFeature, FeatureLocation"
   ]
  },
  {
   "cell_type": "code",
   "execution_count": 17,
   "metadata": {},
   "outputs": [
    {
     "data": {
      "text/plain": [
       "[SeqRecord(seq=Seq('GTGACCCAGCCCGCCGCCGACCGCCACATCCCCCAGGCCCCGAACCGGATGCCG...TGA'), id='LLPMBPKK_00292', name='LLPMBPKK_00292', description='regulatory (smcogs) SMCOG1016:LuxR family DNA-binding response regulator (Score: 187.1; E-value: 4.1e-57)', dbxrefs=[]),\n",
       " SeqRecord(seq=Seq('ATGATGAAGGGGATGCCGCCGGTGGCCCCGCCTGCTGGTTCCGGTTCGTACGGA...TGA'), id='LLPMBPKK_00328', name='LLPMBPKK_00328', description='regulatory (smcogs) SMCOG1149:LuxR family transcriptional regulator (Score: 972.3; E-value: 4.8e-294)', dbxrefs=[]),\n",
       " SeqRecord(seq=Seq('GTGACCGACACCCCCATCCGTCTCCTCCTGGCCGACGACCACCCCGTGGTCCGC...TGA'), id='LLPMBPKK_00586', name='LLPMBPKK_00586', description='regulatory (smcogs) SMCOG1016:LuxR family DNA-binding response regulator (Score: 166.8; E-value: 6.4e-51)', dbxrefs=[]),\n",
       " SeqRecord(seq=Seq('ATGGGCCGTGTGAGCGGGGACACATACGGCGGGGAACGGATCGACTTCCGCAAC...TGA'), id='LLPMBPKK_01488', name='LLPMBPKK_01488', description='regulatory (smcogs) SMCOG1041:transcriptional regulator, SARP family (Score: 314.4; E-value: 3.3e-95)', dbxrefs=[]),\n",
       " SeqRecord(seq=Seq('GTGGCTCTGTTCCACATGCTCGGTCCGCTCGTGGCGGAGCCCCGGGCGCCCGGG...TGA'), id='LLPMBPKK_02197', name='LLPMBPKK_02197', description='regulatory (smcogs) SMCOG1041:transcriptional regulator, SARP family (Score: 259.2; E-value: 1.5e-78)', dbxrefs=[]),\n",
       " SeqRecord(seq=Seq('GTGGAAGTTATGGAACGGGGGATTCGGATGTTCGGCAGGGAAACCGATCGACAG...TGA'), id='LLPMBPKK_02209', name='LLPMBPKK_02209', description='regulatory (smcogs) SMCOG1016:LuxR family DNA-binding response regulator (Score: 66; E-value: 4.5e-20)', dbxrefs=[]),\n",
       " SeqRecord(seq=Seq('GTGCGTGTTGTCCTAGCCGAAGACCTCTTCCTGCTGCGCGACGGGCTGGTGCGG...TGA'), id='LLPMBPKK_02563', name='LLPMBPKK_02563', description='regulatory (smcogs) SMCOG1016:LuxR family DNA-binding response regulator (Score: 143.4; E-value: 9.7e-44)', dbxrefs=[]),\n",
       " SeqRecord(seq=Seq('ATGGCGCATCTGGACATCGGGCTCCTGGGACCGTTCACGGCGTGCATCGACGGT...TAG'), id='LLPMBPKK_02633', name='LLPMBPKK_02633', description='regulatory (smcogs) SMCOG1041:transcriptional regulator, SARP family (Score: 266.8; E-value: 7.8e-81)', dbxrefs=[]),\n",
       " SeqRecord(seq=Seq('GTGATTCGGATCCTGCTCGCAGAAGACATGAACATGGTCCGCGGGGCGCTGGTC...TAG'), id='LLPMBPKK_02635', name='LLPMBPKK_02635', description='regulatory (smcogs) SMCOG1016:LuxR family DNA-binding response regulator (Score: 151.1; E-value: 4.3e-46)', dbxrefs=[]),\n",
       " SeqRecord(seq=Seq('ATGACCGACACCGACAACGACCGGATCCGCGTGGTCGTGGTGGACGACCACGCC...TGA'), id='LLPMBPKK_02637', name='LLPMBPKK_02637', description='regulatory (smcogs) SMCOG1016:LuxR family DNA-binding response regulator (Score: 175.3; E-value: 1.7e-53)', dbxrefs=[]),\n",
       " SeqRecord(seq=Seq('ATGGACATACAGGTTCTCGGTTCGGTTTCCGTGCGGTACGGCAATCGACAGCAC...TGA'), id='LLPMBPKK_02662', name='LLPMBPKK_02662', description='regulatory (smcogs) SMCOG1041:transcriptional regulator, SARP family (Score: 252.9; E-value: 1.2e-76)', dbxrefs=[]),\n",
       " SeqRecord(seq=Seq('GTGGTGCGCAAGGGGCGCCAGCAGGCGAACCGGCGTTCCCCGCACCTCACCGTG...TGA'), id='LLPMBPKK_05992', name='LLPMBPKK_05992', description='regulatory (smcogs) SMCOG1016:LuxR family DNA-binding response regulator (Score: 84.7; E-value: 8.6e-26)', dbxrefs=[]),\n",
       " SeqRecord(seq=Seq('ATGCGGTTAGGGGTGCTCGGACCACTCGCGGTGTGGGACGACGACGGGGAGCAG...TGA'), id='LLPMBPKK_06337', name='LLPMBPKK_06337', description='regulatory (smcogs) SMCOG1041:transcriptional regulator, SARP family (Score: 511.2; E-value: 9.9e-155)', dbxrefs=[]),\n",
       " SeqRecord(seq=Seq('GTGCTTCAGATAGAGCTGCTTGGAACTCTGCAGGTCAGAAACGGCGATGTGAAC...TGA'), id='LLPMBPKK_06422', name='LLPMBPKK_06422', description='regulatory (smcogs) SMCOG1041:transcriptional regulator, SARP family (Score: 476.5; E-value: 3.1e-144)', dbxrefs=[]),\n",
       " SeqRecord(seq=Seq('ATGGAGTTAGCCGCCGCCGCGTCGGAACCGGCCACGGGAGAACGTCCCGTCCGC...TAG'), id='LLPMBPKK_06907', name='LLPMBPKK_06907', description='regulatory (smcogs) SMCOG1149:LuxR family transcriptional regulator (Score: 62.2; E-value: 4.9e-19)', dbxrefs=[]),\n",
       " SeqRecord(seq=Seq('TTGCCCACCCGTGAGGACACTCGGCAAGCCGACCACGCAGCAGCCCTCCGGGGC...TGA'), id='LLPMBPKK_07531', name='LLPMBPKK_07531', description='regulatory (smcogs) SMCOG1149:LuxR family transcriptional regulator (Score: 158; E-value: 5.7e-48)', dbxrefs=[]),\n",
       " SeqRecord(seq=Seq('ATGCGTTCCCATGCGCCTTCTCTGGTCGGACGGGACTCCCAACTGGCCCTGCTC...TAG'), id='LLPMBPKK_07744', name='LLPMBPKK_07744', description='regulatory (smcogs) SMCOG1149:LuxR family transcriptional regulator (Score: 117.2; E-value: 1.2e-35)', dbxrefs=[]),\n",
       " SeqRecord(seq=Seq('GTGCACGACGGCACGCCTTCCCCGGGGGACTTCGGACAGCGGTTGCGGCACCTG...TGA'), id='LLPMBPKK_07949', name='LLPMBPKK_07949', description='regulatory (smcogs) SMCOG1041:transcriptional regulator, SARP family (Score: 358.4; E-value: 1.5e-108)', dbxrefs=[])]"
      ]
     },
     "execution_count": 17,
     "metadata": {},
     "output_type": "execute_result"
    }
   ],
   "source": [
    "my_regulator_sequences = []\n",
    "for i in range(len(cds)): \n",
    "    if cds[i].qualifiers['locus_tag'][0] in locus_tags_to_search_for: \n",
    "        feature_sequence = SeqRecord(cds[i].extract(go4010.seq), id = cds[i].qualifiers['locus_tag'][0],name = cds[i].qualifiers['locus_tag'][0], description = cds[i].qualifiers['gene_functions'][0] )\n",
    "        \n",
    "        # annotation\n",
    "        feature_location = FeatureLocation(start=0, end=len(feature_sequence))\n",
    "        my_feature = SeqFeature(location=feature_location, type='gene', \n",
    "                                qualifiers={\"name\": cds[i].qualifiers['locus_tag'][0], \n",
    "                                            \"product\": cds[i].qualifiers['locus_tag'][0],\n",
    "                                            \"description\": cds[i].qualifiers['gene_functions'][0]})\n",
    "        feature_sequence.features.append(my_feature)\n",
    "        \n",
    "        # saving feature\n",
    "        my_regulator_sequences.append(feature_sequence)\n",
    "\n",
    "my_regulator_sequences"
   ]
  },
  {
   "cell_type": "markdown",
   "metadata": {},
   "source": []
  },
  {
   "cell_type": "code",
   "execution_count": 18,
   "metadata": {},
   "outputs": [],
   "source": [
    "with open('../wet_lab_notebooks/data_for_drylab/GOE_regulators.gb', 'w') as outfile:\n",
    "    for i in range(0, len(my_regulator_sequences)):\n",
    "        my_regulator_sequences[i].annotations[\"molecule_type\"] = \"DNA\"\n",
    "        print(my_regulator_sequences[i].format(\"gb\"), file = outfile)"
   ]
  },
  {
   "cell_type": "code",
   "execution_count": 19,
   "metadata": {},
   "outputs": [
    {
     "data": {
      "text/plain": [
       "'Number of regulator sequences: 18'"
      ]
     },
     "execution_count": 19,
     "metadata": {},
     "output_type": "execute_result"
    }
   ],
   "source": [
    "f'Number of regulator sequences: {len(my_regulator_sequences)}'"
   ]
  },
  {
   "cell_type": "code",
   "execution_count": null,
   "metadata": {},
   "outputs": [],
   "source": []
  }
 ],
 "metadata": {
  "kernelspec": {
   "display_name": "constrain",
   "language": "python",
   "name": "python3"
  },
  "language_info": {
   "codemirror_mode": {
    "name": "ipython",
    "version": 3
   },
   "file_extension": ".py",
   "mimetype": "text/x-python",
   "name": "python",
   "nbconvert_exporter": "python",
   "pygments_lexer": "ipython3",
   "version": "3.11.9"
  }
 },
 "nbformat": 4,
 "nbformat_minor": 2
}
