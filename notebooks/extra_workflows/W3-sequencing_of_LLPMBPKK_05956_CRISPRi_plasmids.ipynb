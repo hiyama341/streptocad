{
 "cells": [
  {
   "cell_type": "markdown",
   "metadata": {},
   "source": [
    "# W3-sequencing_of_LLPMBPKK_05956_CRISPRi_plasmids"
   ]
  },
  {
   "cell_type": "markdown",
   "metadata": {},
   "source": [
    "Pipeline for sequencing of GÖ4010 regulators after transformation into E. coli"
   ]
  },
  {
   "cell_type": "code",
   "execution_count": 57,
   "metadata": {},
   "outputs": [],
   "source": [
    "from pathlib import Path\n",
    "from Bio import SeqIO\n",
    "import pandas as pd\n",
    "import pandas as pd\n",
    "from Bio import SeqIO\n",
    "\n",
    "\n",
    "def read_genbank_files(folder_path):\n",
    "    \"\"\"\n",
    "    Reads all GenBank (.gb, .gbk) files in the given folder and returns\n",
    "    a list of SeqRecord objects (one per record in every file).\n",
    "    \"\"\"\n",
    "    folder = Path(folder_path)\n",
    "    records = []\n",
    "    # match .gb, .gbk, .gbff\n",
    "    for gb_file in folder.glob(\"*.gb*\"):\n",
    "        for rec in SeqIO.parse(gb_file, \"genbank\"):\n",
    "            records.append(rec)\n",
    "    return records\n"
   ]
  },
  {
   "cell_type": "code",
   "execution_count": 58,
   "metadata": {},
   "outputs": [
    {
     "name": "stdout",
     "output_type": "stream",
     "text": [
      "pCRISPRi_LLPMBPKK_05956_p-29\n",
      "pCRISPRi_LLPMBPKK_05956_p-19\n",
      "pCRISPRi_LLPMBPKK_05956_p-47\n",
      "pCRISPRi_LLPMBPKK_05956_p-20\n",
      "pCRISPRi_LLPMBPKK_05956_p60\n"
     ]
    },
    {
     "data": {
      "text/plain": [
       "[SeqRecord(seq=Seq('GGTTTTAGAGCTAGAAATAGCAAGTTAAAATAAGGCTAGTCCGTTATCAACTTG...CGT'), id='LLPMBPKK_05956_p-29', name='LLPMBPKK_05956_p-29', description='Assembled plasmid targeting LLPMBPKK_05956 for single gene KNOCK-DOWN, assembled using StreptoCAD.', dbxrefs=[]),\n",
       " SeqRecord(seq=Seq('GGTTTTAGAGCTAGAAATAGCAAGTTAAAATAAGGCTAGTCCGTTATCAACTTG...GCC'), id='LLPMBPKK_05956_p-19', name='LLPMBPKK_05956_p-19', description='Assembled plasmid targeting LLPMBPKK_05956 for single gene KNOCK-DOWN, assembled using StreptoCAD.', dbxrefs=[]),\n",
       " SeqRecord(seq=Seq('TATGGACAAGAAGTACTCCATCGGCCTCGCGATCGGCACCAACTCCGTGGGCTG...ACA'), id='LLPMBPKK_05956_p-47', name='LLPMBPKK_05956_p-47', description='Assembled plasmid targeting LLPMBPKK_05956 for single gene KNOCK-DOWN, assembled using StreptoCAD.', dbxrefs=[]),\n",
       " SeqRecord(seq=Seq('GTTTTAGAGCTAGAAATAGCAAGTTAAAATAAGGCTAGTCCGTTATCAACTTGA...CGT'), id='LLPMBPKK_05956_p-20', name='LLPMBPKK_05956_p-20', description='Assembled plasmid targeting LLPMBPKK_05956 for single gene KNOCK-DOWN, assembled using StreptoCAD.', dbxrefs=[]),\n",
       " SeqRecord(seq=Seq('GTTTTAGAGCTAGAAATAGCAAGTTAAAATAAGGCTAGTCCGTTATCAACTTGA...CAT'), id='LLPMBPKK_05956_p60', name='LLPMBPKK_05956_p60', description='Assembled plasmid targeting LLPMBPKK_05956 for single gene KNOCK-DOWN, assembled using StreptoCAD.', dbxrefs=[])]"
      ]
     },
     "execution_count": 58,
     "metadata": {},
     "output_type": "execute_result"
    }
   ],
   "source": [
    "crispr_plasmids = read_genbank_files('plasmids/')\n",
    "\n",
    "# Change their names: \n",
    "for rec in crispr_plasmids:\n",
    "    print(rec.id)\n",
    "    # split on the first underscore and keep everything after\n",
    "    new_label = rec.id.split('_', 1)[1]\n",
    "    rec.id   = new_label\n",
    "    rec.name = new_label\n",
    "\n",
    "crispr_plasmids "
   ]
  },
  {
   "cell_type": "code",
   "execution_count": 59,
   "metadata": {},
   "outputs": [
    {
     "data": {
      "text/plain": [
       "{'LLPMBPKK_05956_p-29': SeqRecord(seq=Seq('GGTTTTAGAGCTAGAAATAGCAAGTTAAAATAAGGCTAGTCCGTTATCAACTTG...CGT'), id='LLPMBPKK_05956_p-29', name='LLPMBPKK_05956_p-29', description='Assembled plasmid targeting LLPMBPKK_05956 for single gene KNOCK-DOWN, assembled using StreptoCAD.', dbxrefs=[]),\n",
       " 'LLPMBPKK_05956_p-19': SeqRecord(seq=Seq('GGTTTTAGAGCTAGAAATAGCAAGTTAAAATAAGGCTAGTCCGTTATCAACTTG...GCC'), id='LLPMBPKK_05956_p-19', name='LLPMBPKK_05956_p-19', description='Assembled plasmid targeting LLPMBPKK_05956 for single gene KNOCK-DOWN, assembled using StreptoCAD.', dbxrefs=[]),\n",
       " 'LLPMBPKK_05956_p-47': SeqRecord(seq=Seq('TATGGACAAGAAGTACTCCATCGGCCTCGCGATCGGCACCAACTCCGTGGGCTG...ACA'), id='LLPMBPKK_05956_p-47', name='LLPMBPKK_05956_p-47', description='Assembled plasmid targeting LLPMBPKK_05956 for single gene KNOCK-DOWN, assembled using StreptoCAD.', dbxrefs=[]),\n",
       " 'LLPMBPKK_05956_p-20': SeqRecord(seq=Seq('GTTTTAGAGCTAGAAATAGCAAGTTAAAATAAGGCTAGTCCGTTATCAACTTGA...CGT'), id='LLPMBPKK_05956_p-20', name='LLPMBPKK_05956_p-20', description='Assembled plasmid targeting LLPMBPKK_05956 for single gene KNOCK-DOWN, assembled using StreptoCAD.', dbxrefs=[]),\n",
       " 'LLPMBPKK_05956_p60': SeqRecord(seq=Seq('GTTTTAGAGCTAGAAATAGCAAGTTAAAATAAGGCTAGTCCGTTATCAACTTGA...CAT'), id='LLPMBPKK_05956_p60', name='LLPMBPKK_05956_p60', description='Assembled plasmid targeting LLPMBPKK_05956 for single gene KNOCK-DOWN, assembled using StreptoCAD.', dbxrefs=[])}"
      ]
     },
     "execution_count": 59,
     "metadata": {},
     "output_type": "execute_result"
    }
   ],
   "source": [
    "ref_dict = {rec.id: rec for rec in crispr_plasmids}\n",
    "ref_dict\n"
   ]
  },
  {
   "cell_type": "code",
   "execution_count": 60,
   "metadata": {},
   "outputs": [
    {
     "data": {
      "text/html": [
       "<div>\n",
       "<style scoped>\n",
       "    .dataframe tbody tr th:only-of-type {\n",
       "        vertical-align: middle;\n",
       "    }\n",
       "\n",
       "    .dataframe tbody tr th {\n",
       "        vertical-align: top;\n",
       "    }\n",
       "\n",
       "    .dataframe thead th {\n",
       "        text-align: right;\n",
       "    }\n",
       "</style>\n",
       "<table border=\"1\" class=\"dataframe\">\n",
       "  <thead>\n",
       "    <tr style=\"text-align: right;\">\n",
       "      <th></th>\n",
       "      <th>Sample</th>\n",
       "      <th>Primer</th>\n",
       "      <th>Sequencing ID</th>\n",
       "      <th>Result</th>\n",
       "      <th>Goe Primer</th>\n",
       "      <th>Plasmid Construct</th>\n",
       "    </tr>\n",
       "  </thead>\n",
       "  <tbody>\n",
       "    <tr>\n",
       "      <th>0</th>\n",
       "      <td>p313</td>\n",
       "      <td>CW1</td>\n",
       "      <td>EF71614652</td>\n",
       "      <td>Correct</td>\n",
       "      <td>Goe</td>\n",
       "      <td>pCRISPRi_LLPMBPKK_05956_p-47_#1</td>\n",
       "    </tr>\n",
       "    <tr>\n",
       "      <th>1</th>\n",
       "      <td>p314</td>\n",
       "      <td>CW1</td>\n",
       "      <td>EF71614661</td>\n",
       "      <td>Correct</td>\n",
       "      <td>Goe</td>\n",
       "      <td>pCRISPRi_LLPMBPKK_05956_p-29_#2</td>\n",
       "    </tr>\n",
       "    <tr>\n",
       "      <th>2</th>\n",
       "      <td>p315</td>\n",
       "      <td>CW1</td>\n",
       "      <td>EF71614662</td>\n",
       "      <td>Correct</td>\n",
       "      <td>Goe</td>\n",
       "      <td>pCRISPRi_LLPMBPKK_05956_p-20_#3</td>\n",
       "    </tr>\n",
       "    <tr>\n",
       "      <th>3</th>\n",
       "      <td>p316</td>\n",
       "      <td>CW1</td>\n",
       "      <td>EF71614663</td>\n",
       "      <td>Correct</td>\n",
       "      <td>Goe</td>\n",
       "      <td>pCRISPRi_LLPMBPKK_05956_p-19_#4</td>\n",
       "    </tr>\n",
       "    <tr>\n",
       "      <th>4</th>\n",
       "      <td>p317</td>\n",
       "      <td>CW1</td>\n",
       "      <td>EF73913363</td>\n",
       "      <td>Correct</td>\n",
       "      <td>Goe</td>\n",
       "      <td>pCRISPRi_LLPMBPKK_05956_p60_#5</td>\n",
       "    </tr>\n",
       "  </tbody>\n",
       "</table>\n",
       "</div>"
      ],
      "text/plain": [
       "  Sample Primer Sequencing ID   Result Goe Primer  \\\n",
       "0   p313    CW1    EF71614652  Correct        Goe   \n",
       "1   p314    CW1    EF71614661  Correct        Goe   \n",
       "2   p315    CW1    EF71614662  Correct        Goe   \n",
       "3   p316    CW1    EF71614663  Correct        Goe   \n",
       "4   p317    CW1    EF73913363  Correct        Goe   \n",
       "\n",
       "                 Plasmid Construct  \n",
       "0  pCRISPRi_LLPMBPKK_05956_p-47_#1  \n",
       "1  pCRISPRi_LLPMBPKK_05956_p-29_#2  \n",
       "2  pCRISPRi_LLPMBPKK_05956_p-20_#3  \n",
       "3  pCRISPRi_LLPMBPKK_05956_p-19_#4  \n",
       "4   pCRISPRi_LLPMBPKK_05956_p60_#5  "
      ]
     },
     "execution_count": 60,
     "metadata": {},
     "output_type": "execute_result"
    }
   ],
   "source": [
    "# 1) Define metadata table\n",
    "\n",
    "data = {\n",
    "    \"Sample\": [\"p313\", \"p314\", \"p315\", \"p316\", \"p317\"],\n",
    "    \"Primer\": [\"CW1\", \"CW1\", \"CW1\", \"CW1\", \"CW1\"],\n",
    "    \"Sequencing ID\": [\"EF71614652\", \"EF71614661\", \"EF71614662\", \"EF71614663\", \"EF73913363\"],\n",
    "    \"Result\": [\"Correct\", \"Correct\", \"Correct\", \"Correct\", \"Correct\"],\n",
    "    \"Goe Primer\": [\"Goe\"]*5,\n",
    "    \"Plasmid Construct\": [\n",
    "        \"pCRISPRi_LLPMBPKK_05956_p-47_#1\",\n",
    "        \"pCRISPRi_LLPMBPKK_05956_p-29_#2\",\n",
    "        \"pCRISPRi_LLPMBPKK_05956_p-20_#3\",\n",
    "        \"pCRISPRi_LLPMBPKK_05956_p-19_#4\",\n",
    "        \"pCRISPRi_LLPMBPKK_05956_p60_#5\"\n",
    "    ]\n",
    "}\n",
    "\n",
    "meta_data_df = pd.DataFrame(data)\n",
    "meta_data_df"
   ]
  },
  {
   "cell_type": "markdown",
   "metadata": {
    "vscode": {
     "languageId": "bat"
    }
   },
   "source": [
    "# For each row align and make chromatogram plots (ab1-->GB)"
   ]
  },
  {
   "cell_type": "code",
   "execution_count": 61,
   "metadata": {},
   "outputs": [],
   "source": [
    "from pathlib import Path\n",
    "import matplotlib.pyplot as plt\n",
    "from sangerseq_viewer.sangerseq_viewer import view_sanger\n",
    "\n",
    "SEQ_DIR = Path(\"sequencing_files/\")\n",
    "GBK_DIR = Path(\"plasmids/\")\n",
    "\n",
    "\n",
    "for _, row in meta_data_df.iterrows():\n",
    "    ab1_id         = row[\"Sequencing ID\"]\n",
    "    sample         = row[\"Sample\"]        # e.g., 'p313'\n",
    "    plasmid_no     = sample.replace('p', '')  # e.g., '313'\n",
    "    read_direction = \"F\"                  # Or leave as None if not needed\n",
    "    ref_id         = row[\"Plasmid Construct\"]\n",
    "    locus_tag      = ref_id               # Use ref_id if no locus_tag column\n",
    "\n",
    "    ab1_path = SEQ_DIR / f\"{ab1_id}_{ab1_id}.ab1\"\n",
    "    if not ab1_path.exists():\n",
    "        print(\"Missing AB1:\", ab1_path)\n",
    "        continue\n",
    "\n",
    "    # find the GBK that contains your ref_id\n",
    "    matches = list(GBK_DIR.glob(f\"*{ref_id}*.gb*\"))\n",
    "    if not matches:\n",
    "        print(\"Missing GBK for\", ref_id)\n",
    "        continue\n",
    "\n",
    "    gbk_path = matches[0]\n",
    "\n",
    "    # 3) call view_sanger with that window (positional args):\n",
    "    #    (gbkpath, abipath, start, end, linebreak, output, display_quality, dpi)\n",
    "    fig = view_sanger(\n",
    "        str(gbk_path),    # path to your GenBank/GFF file\n",
    "        str(ab1_path),    # path (or dir) with your .ab1 traces\n",
    "        start=None, # int\n",
    "        end=None,   # int\n",
    "        linebreak=None,        # wrap every 200 bp\n",
    "        output=f'sequencing_files/chromatograms/sanger_P{plasmid_no}',     # path or None\n",
    "        display_quality=True,  # bool\n",
    "        dpi=300    # int\n",
    "    )\n",
    "\n",
    "    plt.show()\n"
   ]
  },
  {
   "cell_type": "markdown",
   "metadata": {},
   "source": [
    "### Processing chromatogram plots"
   ]
  },
  {
   "cell_type": "code",
   "execution_count": 62,
   "metadata": {},
   "outputs": [
    {
     "name": "stdout",
     "output_type": "stream",
     "text": [
      "Processed sanger_P314.png -> sequencing_files/chromatogram_plots_chopped/sanger_P314_stacked.png\n",
      "Processed sanger_P315.png -> sequencing_files/chromatogram_plots_chopped/sanger_P315_stacked.png\n",
      "Processed sanger_P317.png -> sequencing_files/chromatogram_plots_chopped/sanger_P317_stacked.png\n",
      "Processed sanger_P316.png -> sequencing_files/chromatogram_plots_chopped/sanger_P316_stacked.png\n",
      "Processed sanger_P313.png -> sequencing_files/chromatogram_plots_chopped/sanger_P313_stacked.png\n"
     ]
    }
   ],
   "source": [
    "import os\n",
    "from PIL import Image\n",
    "import glob\n",
    "\n",
    "input_dir = \"sequencing_files/chromatograms\"\n",
    "output_dir = \"sequencing_files/chromatogram_plots_chopped\"\n",
    "n = 2\n",
    "\n",
    "\n",
    "os.makedirs(output_dir, exist_ok=True)\n",
    "\n",
    "for img_path in glob.glob(os.path.join(input_dir, \"*.jpg\")) + glob.glob(os.path.join(input_dir, \"*.png\")):\n",
    "    filename = os.path.basename(img_path)\n",
    "    name, ext = os.path.splitext(filename)\n",
    "    \n",
    "    img = Image.open(img_path)\n",
    "    w, h = img.size\n",
    "    chunk_width = w // n\n",
    "    pieces = []\n",
    "    for i in range(n):\n",
    "        left = i * chunk_width\n",
    "        right = (i + 1) * chunk_width if i < n-1 else w\n",
    "        piece = img.crop((left, 0, right, h))\n",
    "        pieces.append(piece)\n",
    "    \n",
    "    # Create a new image tall enough to hold all pieces, width of one chunk\n",
    "    stacked_img = Image.new('RGB', (chunk_width, h * n))\n",
    "    for i, piece in enumerate(pieces):\n",
    "        stacked_img.paste(piece, (0, i * h))\n",
    "    \n",
    "    output_path = os.path.join(output_dir, f\"{name}_stacked{ext}\")\n",
    "    stacked_img.save(output_path)\n",
    "    print(f\"Processed {filename} -> {output_path}\")\n"
   ]
  },
  {
   "cell_type": "code",
   "execution_count": 63,
   "metadata": {},
   "outputs": [
    {
     "name": "stdout",
     "output_type": "stream",
     "text": [
      "Processed sanger_P314.png -> sequencing_files/chromatogram_plots_chopped/sanger_P314_stacked.png\n",
      "Processed sanger_P315.png -> sequencing_files/chromatogram_plots_chopped/sanger_P315_stacked.png\n",
      "Processed sanger_P317.png -> sequencing_files/chromatogram_plots_chopped/sanger_P317_stacked.png\n",
      "Processed sanger_P316.png -> sequencing_files/chromatogram_plots_chopped/sanger_P316_stacked.png\n",
      "Processed sanger_P313.png -> sequencing_files/chromatogram_plots_chopped/sanger_P313_stacked.png\n"
     ]
    }
   ],
   "source": [
    "import os\n",
    "from PIL import Image\n",
    "import glob\n",
    "import numpy as np\n",
    "\n",
    "input_dir = \"sequencing_files/chromatograms\"\n",
    "output_dir = \"sequencing_files/chromatogram_plots_chopped\"\n",
    "target_chunk_width = 8000  # You can adjust this\n",
    "\n",
    "os.makedirs(output_dir, exist_ok=True)\n",
    "\n",
    "# If you want to set the target chunk width based on your actual image set:\n",
    "widths = []\n",
    "for img_path in glob.glob(os.path.join(input_dir, \"*.jpg\")) + glob.glob(os.path.join(input_dir, \"*.png\")):\n",
    "    with Image.open(img_path) as img:\n",
    "        widths.append(img.size[0])\n",
    "# Example: use the median image width for target_chunk_width\n",
    "# target_chunk_width = int(np.median(widths))\n",
    "\n",
    "for img_path in glob.glob(os.path.join(input_dir, \"*.jpg\")) + glob.glob(os.path.join(input_dir, \"*.png\")):\n",
    "    filename = os.path.basename(img_path)\n",
    "    name, ext = os.path.splitext(filename)\n",
    "\n",
    "    img = Image.open(img_path)\n",
    "    w, h = img.size\n",
    "\n",
    "    n_chunks = max(1, round(w / target_chunk_width))\n",
    "    chunk_width = w // n_chunks\n",
    "\n",
    "    pieces = []\n",
    "    for i in range(n_chunks):\n",
    "        left = i * chunk_width\n",
    "        right = (i + 1) * chunk_width if i < n_chunks - 1 else w\n",
    "        piece = img.crop((left, 0, right, h))\n",
    "        pieces.append(piece)\n",
    "\n",
    "    # Create a new image tall enough to hold all pieces, width of one chunk\n",
    "    stacked_img = Image.new('RGB', (chunk_width, h * n_chunks))\n",
    "    for i, piece in enumerate(pieces):\n",
    "        # Optionally, resize each chunk to (chunk_width, h) for strict uniformity\n",
    "        stacked_img.paste(piece.resize((chunk_width, h)), (0, i * h))\n",
    "\n",
    "    output_path = os.path.join(output_dir, f\"{name}_stacked{ext}\")\n",
    "    stacked_img.save(output_path)\n",
    "    print(f\"Processed {filename} -> {output_path}\")\n"
   ]
  },
  {
   "cell_type": "code",
   "execution_count": 64,
   "metadata": {},
   "outputs": [
    {
     "name": "stdout",
     "output_type": "stream",
     "text": [
      "Processed sanger_P314.png -> sequencing_files/chromatogram_plots_left500/sanger_P314_left7500.png\n",
      "Processed sanger_P315.png -> sequencing_files/chromatogram_plots_left500/sanger_P315_left7500.png\n",
      "Processed sanger_P317.png -> sequencing_files/chromatogram_plots_left500/sanger_P317_left7500.png\n",
      "Processed sanger_P316.png -> sequencing_files/chromatogram_plots_left500/sanger_P316_left7500.png\n",
      "Processed sanger_P313.png -> sequencing_files/chromatogram_plots_left500/sanger_P313_left7500.png\n"
     ]
    }
   ],
   "source": [
    "import os\n",
    "from PIL import Image\n",
    "import glob\n",
    "\n",
    "input_dir = \"sequencing_files/chromatograms\"\n",
    "output_dir = \"sequencing_files/chromatogram_plots_left500\"\n",
    "crop_width = 500*15  # Number of pixels to keep from the left\n",
    "\n",
    "os.makedirs(output_dir, exist_ok=True)\n",
    "\n",
    "for img_path in glob.glob(os.path.join(input_dir, \"*.jpg\")) + glob.glob(os.path.join(input_dir, \"*.png\")):\n",
    "    filename = os.path.basename(img_path)\n",
    "    name, ext = os.path.splitext(filename)\n",
    "\n",
    "    img = Image.open(img_path)\n",
    "    w, h = img.size\n",
    "\n",
    "    # Ensure we don't go out of bounds\n",
    "    right = min(crop_width, w)\n",
    "\n",
    "    # Crop: (left, upper, right, lower)\n",
    "    cropped = img.crop((0, 0, right, h))\n",
    "\n",
    "    output_path = os.path.join(output_dir, f\"{name}_left{crop_width}{ext}\")\n",
    "    cropped.save(output_path)\n",
    "    print(f\"Processed {filename} -> {output_path}\")\n"
   ]
  },
  {
   "cell_type": "code",
   "execution_count": 55,
   "metadata": {},
   "outputs": [
    {
     "data": {
      "text/plain": [
       "115"
      ]
     },
     "execution_count": 55,
     "metadata": {},
     "output_type": "execute_result"
    }
   ],
   "source": [
    "len('gcggtcgatcttgacggctggcgagaggtgcggggaggatctgaccgacgcggtccacacgtggcaccgcgatgctgttgtgggcacaatcgtgccggttggtaggatcgacggC')"
   ]
  },
  {
   "cell_type": "code",
   "execution_count": null,
   "metadata": {},
   "outputs": [],
   "source": []
  }
 ],
 "metadata": {
  "kernelspec": {
   "display_name": "py_3_10",
   "language": "python",
   "name": "python3"
  },
  "language_info": {
   "codemirror_mode": {
    "name": "ipython",
    "version": 3
   },
   "file_extension": ".py",
   "mimetype": "text/x-python",
   "name": "python",
   "nbconvert_exporter": "python",
   "pygments_lexer": "ipython3",
   "version": "3.10.16"
  }
 },
 "nbformat": 4,
 "nbformat_minor": 2
}
